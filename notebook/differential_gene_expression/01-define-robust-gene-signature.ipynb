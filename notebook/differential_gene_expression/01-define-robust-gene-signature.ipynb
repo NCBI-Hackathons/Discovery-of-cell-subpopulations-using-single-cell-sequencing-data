{
 "cells": [
  {
   "cell_type": "markdown",
   "metadata": {},
   "source": [
    "# Define gene signatures and visualize tree on tSNE\n",
    "- define robust gene signatures defining each cluster beyond the decision tree rules\n",
    "- measure signature similarity across experiments\n",
    "- find the appropriate tSNE parameters\n",
    "overlay tree hierarchy on tSNE annotated by (1) cluster membership (2) decision tree\n",
    "genes (3) robust cluster gene signatures activation\n",
    "- generating additional figures for the manuscript (heatmaps, illustrations etc)"
   ]
  },
  {
   "cell_type": "code",
   "execution_count": 2,
   "metadata": {},
   "outputs": [
    {
     "name": "stderr",
     "output_type": "stream",
     "text": [
      "Warning message:\n",
      "“package ‘dplyr’ was built under R version 3.5.1”"
     ]
    }
   ],
   "source": [
    "suppressMessages({\n",
    "    library(tidyverse)\n",
    "    library(DESeq2)\n",
    "})"
   ]
  },
  {
   "cell_type": "code",
   "execution_count": 54,
   "metadata": {},
   "outputs": [],
   "source": [
    "n_cells = 100\n",
    "n_genes = 300\n",
    "test_data = matrix(round(runif(n_cells * n_genes, min=1, max=10), 0), nrow=n_cells, ncol=n_genes)"
   ]
  },
  {
   "cell_type": "code",
   "execution_count": 74,
   "metadata": {},
   "outputs": [],
   "source": [
    "n_communities = 10\n",
    "communities = sample(seq(n_communities), n_cells, replace=TRUE)"
   ]
  },
  {
   "cell_type": "code",
   "execution_count": 83,
   "metadata": {},
   "outputs": [],
   "source": [
    "GeneSignature = function(data, label, alpha=0.05, out.path=NULL) {\n",
    "    dds <- DESeqDataSetFromMatrix(countData = data, # genes x samples\n",
    "                              colData = data.frame(is_community = label),\n",
    "                              design= ~ is_community)\n",
    "    dds <- DESeq(dds)\n",
    "    resultsNames(dds)\n",
    "    res <- results(dds, alpha=alpha)\n",
    "    resOrdered <- res[order(res$pvalue),]\n",
    "    sig.idx = res$padj < alpha\n",
    "    print(paste0(sum(sig.idx), 'genes found differentially expressed')\n",
    "    if(!is.null(out.path)) write.csv(res[sig.idx,], file=out.path)\n",
    "}"
   ]
  },
  {
   "cell_type": "code",
   "execution_count": 87,
   "metadata": {},
   "outputs": [
    {
     "name": "stdout",
     "output_type": "stream",
     "text": [
      "[1] 0\n",
      "[1] 0\n",
      "[1] 0\n",
      "[1] 0\n",
      "[1] 0\n",
      "[1] 0\n",
      "[1] 0\n",
      "[1] 0\n",
      "[1] 0\n",
      "[1] 0\n"
     ]
    }
   ],
   "source": [
    "base.path = '~/Desktop/Inbox/'\n",
    "for (i in unique(communities)) {\n",
    "    suppressMessages(GeneSignature(t(test_data), label=(communities == i) %>% as.numeric, out.path=paste0(base.path, 'community_', i, '.csv')))\n",
    "}"
   ]
  }
 ],
 "metadata": {
  "kernelspec": {
   "display_name": "R",
   "language": "R",
   "name": "ir"
  },
  "language_info": {
   "codemirror_mode": "r",
   "file_extension": ".r",
   "mimetype": "text/x-r-source",
   "name": "R",
   "pygments_lexer": "r",
   "version": "3.5.0"
  }
 },
 "nbformat": 4,
 "nbformat_minor": 2
}
