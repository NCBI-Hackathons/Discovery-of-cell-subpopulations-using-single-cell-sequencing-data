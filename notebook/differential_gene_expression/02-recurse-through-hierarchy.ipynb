{
 "cells": [
  {
   "cell_type": "markdown",
   "metadata": {},
   "source": [
    "# recurse through the hierarchy"
   ]
  },
  {
   "cell_type": "markdown",
   "metadata": {},
   "source": [
    "Recurse through trees to find differentially expressed genes between children nodes \n",
    "\n",
    "Input:\n",
    "- subtree: n cells by k hierarchy matrix that indicates the hierarchy\n",
    "- expression: the count matrix of the m genes by n cells\n",
    "\n",
    "Output:\n",
    "- a long form of the matrix that contains the ID for the expressed gene set and genes that are overexpressed\n",
    "\n",
    "Psueudocode:\n",
    "\n",
    "```\n",
    "tree matrix\n",
    "over(membership,expression) {\n",
    "    return(symbols[FC>1.5 & Q < 0.1])\n",
    "}\n",
    "\n",
    "get.node.genes <- function(tree,expression,k=1) {\n",
    "    \n",
    "    membership = tree[,k] == unique(tree[,k])[1]\n",
    "    over1 = over (membership,expression)\n",
    "    subtree1_id = paste(tree[membership,seq(k)][1,],collapse='_')\n",
    "    over2 = over (!membership,expression)\n",
    "\n",
    "    paste(tree[membership,seq(k+1)][1,],collapse='_')\n",
    "    subtree1 = data.frame(id = subtree1_id,genes = get.node.genes(tree[membership,],k+1))\n",
    "\n",
    "    combined = rbind(subtree1,subtree2)\n",
    "}\n",
    "```"
   ]
  },
  {
   "cell_type": "code",
   "execution_count": 145,
   "metadata": {},
   "outputs": [],
   "source": [
    "source('../../R/gene_signature.R')"
   ]
  },
  {
   "cell_type": "code",
   "execution_count": 67,
   "metadata": {},
   "outputs": [],
   "source": [
    "example_hierarchy = cbind(c(rep(1, 9), rep(2, 11)), \n",
    "                          c(rep(1, 4), rep(2, 5), rep(1, 3), rep(2, 8)))"
   ]
  },
  {
   "cell_type": "code",
   "execution_count": 117,
   "metadata": {},
   "outputs": [],
   "source": [
    "n_cells = 20\n",
    "n_genes = 50\n",
    "example_expression = matrix(sample(1:100, n_genes * n_cells, replace=T), nrow=n_genes)\n",
    "rownames(example_expression) = paste0('gene', seq(nrow(example_expression)))"
   ]
  },
  {
   "cell_type": "code",
   "execution_count": 118,
   "metadata": {},
   "outputs": [
    {
     "data": {
      "text/html": [
       "<table>\n",
       "<tbody>\n",
       "\t<tr><th scope=row>gene1</th><td>31</td><td>52</td><td>90</td><td>82</td><td>46</td><td>19</td><td>96</td><td> 3</td><td>34</td><td>23</td><td>97</td><td>55</td><td>44</td><td>18</td><td> 8</td><td>16</td><td> 4</td><td>98</td><td> 7</td><td>15</td></tr>\n",
       "\t<tr><th scope=row>gene2</th><td> 3</td><td>72</td><td>14</td><td>17</td><td>89</td><td>82</td><td>50</td><td>48</td><td>33</td><td>35</td><td>12</td><td>61</td><td>87</td><td>47</td><td>73</td><td>12</td><td>49</td><td>72</td><td>35</td><td>88</td></tr>\n",
       "\t<tr><th scope=row>gene3</th><td>70</td><td>16</td><td>39</td><td>91</td><td>28</td><td>59</td><td> 5</td><td>22</td><td>73</td><td>85</td><td>98</td><td>39</td><td>13</td><td>76</td><td>47</td><td>23</td><td>44</td><td>50</td><td>58</td><td>35</td></tr>\n",
       "\t<tr><th scope=row>gene4</th><td>24</td><td>13</td><td>68</td><td>17</td><td>63</td><td>34</td><td>69</td><td>34</td><td>92</td><td>46</td><td>73</td><td>29</td><td>26</td><td>33</td><td>31</td><td>11</td><td>90</td><td>38</td><td>21</td><td>30</td></tr>\n",
       "\t<tr><th scope=row>gene5</th><td>90</td><td>42</td><td>99</td><td>40</td><td>43</td><td>43</td><td>43</td><td>40</td><td>58</td><td> 6</td><td>88</td><td> 9</td><td>63</td><td>55</td><td>92</td><td>75</td><td> 3</td><td>64</td><td>41</td><td>28</td></tr>\n",
       "\t<tr><th scope=row>gene6</th><td>18</td><td>52</td><td>97</td><td>53</td><td>32</td><td> 7</td><td>36</td><td>23</td><td>83</td><td>16</td><td>85</td><td>18</td><td>33</td><td>66</td><td>70</td><td>77</td><td>32</td><td>84</td><td>26</td><td>15</td></tr>\n",
       "</tbody>\n",
       "</table>\n"
      ],
      "text/latex": [
       "\\begin{tabular}{r|llllllllllllllllllll}\n",
       "\tgene1 & 31 & 52 & 90 & 82 & 46 & 19 & 96 &  3 & 34 & 23 & 97 & 55 & 44 & 18 &  8 & 16 &  4 & 98 &  7 & 15\\\\\n",
       "\tgene2 &  3 & 72 & 14 & 17 & 89 & 82 & 50 & 48 & 33 & 35 & 12 & 61 & 87 & 47 & 73 & 12 & 49 & 72 & 35 & 88\\\\\n",
       "\tgene3 & 70 & 16 & 39 & 91 & 28 & 59 &  5 & 22 & 73 & 85 & 98 & 39 & 13 & 76 & 47 & 23 & 44 & 50 & 58 & 35\\\\\n",
       "\tgene4 & 24 & 13 & 68 & 17 & 63 & 34 & 69 & 34 & 92 & 46 & 73 & 29 & 26 & 33 & 31 & 11 & 90 & 38 & 21 & 30\\\\\n",
       "\tgene5 & 90 & 42 & 99 & 40 & 43 & 43 & 43 & 40 & 58 &  6 & 88 &  9 & 63 & 55 & 92 & 75 &  3 & 64 & 41 & 28\\\\\n",
       "\tgene6 & 18 & 52 & 97 & 53 & 32 &  7 & 36 & 23 & 83 & 16 & 85 & 18 & 33 & 66 & 70 & 77 & 32 & 84 & 26 & 15\\\\\n",
       "\\end{tabular}\n"
      ],
      "text/markdown": [
       "\n",
       "| gene1 | 31 | 52 | 90 | 82 | 46 | 19 | 96 |  3 | 34 | 23 | 97 | 55 | 44 | 18 |  8 | 16 |  4 | 98 |  7 | 15 | \n",
       "| gene2 |  3 | 72 | 14 | 17 | 89 | 82 | 50 | 48 | 33 | 35 | 12 | 61 | 87 | 47 | 73 | 12 | 49 | 72 | 35 | 88 | \n",
       "| gene3 | 70 | 16 | 39 | 91 | 28 | 59 |  5 | 22 | 73 | 85 | 98 | 39 | 13 | 76 | 47 | 23 | 44 | 50 | 58 | 35 | \n",
       "| gene4 | 24 | 13 | 68 | 17 | 63 | 34 | 69 | 34 | 92 | 46 | 73 | 29 | 26 | 33 | 31 | 11 | 90 | 38 | 21 | 30 | \n",
       "| gene5 | 90 | 42 | 99 | 40 | 43 | 43 | 43 | 40 | 58 |  6 | 88 |  9 | 63 | 55 | 92 | 75 |  3 | 64 | 41 | 28 | \n",
       "| gene6 | 18 | 52 | 97 | 53 | 32 |  7 | 36 | 23 | 83 | 16 | 85 | 18 | 33 | 66 | 70 | 77 | 32 | 84 | 26 | 15 | \n",
       "\n",
       "\n"
      ],
      "text/plain": [
       "      [,1] [,2] [,3] [,4] [,5] [,6] [,7] [,8] [,9] [,10] [,11] [,12] [,13]\n",
       "gene1 31   52   90   82   46   19   96    3   34   23    97    55    44   \n",
       "gene2  3   72   14   17   89   82   50   48   33   35    12    61    87   \n",
       "gene3 70   16   39   91   28   59    5   22   73   85    98    39    13   \n",
       "gene4 24   13   68   17   63   34   69   34   92   46    73    29    26   \n",
       "gene5 90   42   99   40   43   43   43   40   58    6    88     9    63   \n",
       "gene6 18   52   97   53   32    7   36   23   83   16    85    18    33   \n",
       "      [,14] [,15] [,16] [,17] [,18] [,19] [,20]\n",
       "gene1 18     8    16     4    98     7    15   \n",
       "gene2 47    73    12    49    72    35    88   \n",
       "gene3 76    47    23    44    50    58    35   \n",
       "gene4 33    31    11    90    38    21    30   \n",
       "gene5 55    92    75     3    64    41    28   \n",
       "gene6 66    70    77    32    84    26    15   "
      ]
     },
     "metadata": {},
     "output_type": "display_data"
    }
   ],
   "source": [
    "head(example_expression)"
   ]
  },
  {
   "cell_type": "code",
   "execution_count": 120,
   "metadata": {},
   "outputs": [
    {
     "name": "stdout",
     "output_type": "stream",
     "text": [
      "[1] \"1\"\n",
      "[1] \"2\"\n",
      "[1] \"1_1\"\n",
      "[1] \"1_2\"\n",
      "[1] \"2_1\"\n",
      "[1] \"2_2\"\n"
     ]
    }
   ],
   "source": [
    "res = get.node.genes(data.matrix(example_hierarchy), example_expression, 0.99, 0)"
   ]
  },
  {
   "cell_type": "raw",
   "metadata": {},
   "source": [
    "# Input assumption: a binary rooted tree\n",
    "\n",
    "## Test case 1:\n",
    "        x\n",
    "       / \\\n",
    "      x   x\n",
    "     /  \\  \\ \n",
    "    x    \\  \\\n",
    "   / \\    \\  \\ \n",
    "  1   2    3  4\n",
    "  \n",
    "The data matrix corresponding to this situation will be\n",
    "\n",
    " k 2 3 4\n",
    "1  1 1 1\n",
    "2  1 1 2\n",
    "3  1 2 3\n",
    "4  2 3 4\n",
    "\n",
    "Therefore, on each level, there will only be a one comparison. And write the differentially expression data into the data matrix.\n",
    "\n",
    "A iterating algorithm will be good for this situation. Instead of recursing through the tree. The iternal node will be encoded by "
   ]
  },
  {
   "cell_type": "code",
   "execution_count": 166,
   "metadata": {},
   "outputs": [],
   "source": [
    "test_hierarchy = matrix(c(1, 1, 1, 2, \n",
    "                          1, 1, 2, 3,\n",
    "                          1, 2, 3, 4), nrow=4, byrow=T)"
   ]
  },
  {
   "cell_type": "code",
   "execution_count": 169,
   "metadata": {},
   "outputs": [
    {
     "data": {
      "text/html": [
       "<table>\n",
       "<thead><tr><th></th><th scope=col>k1</th><th scope=col>k2</th><th scope=col>k3</th></tr></thead>\n",
       "<tbody>\n",
       "\t<tr><th scope=row>c1</th><td>1</td><td>1</td><td>1</td></tr>\n",
       "\t<tr><th scope=row>c2</th><td>2</td><td>1</td><td>1</td></tr>\n",
       "\t<tr><th scope=row>c3</th><td>2</td><td>3</td><td>1</td></tr>\n",
       "\t<tr><th scope=row>c4</th><td>2</td><td>3</td><td>4</td></tr>\n",
       "</tbody>\n",
       "</table>\n"
      ],
      "text/latex": [
       "\\begin{tabular}{r|lll}\n",
       "  & k1 & k2 & k3\\\\\n",
       "\\hline\n",
       "\tc1 & 1 & 1 & 1\\\\\n",
       "\tc2 & 2 & 1 & 1\\\\\n",
       "\tc3 & 2 & 3 & 1\\\\\n",
       "\tc4 & 2 & 3 & 4\\\\\n",
       "\\end{tabular}\n"
      ],
      "text/markdown": [
       "\n",
       "| <!--/--> | k1 | k2 | k3 | \n",
       "|---|---|---|---|\n",
       "| c1 | 1 | 1 | 1 | \n",
       "| c2 | 2 | 1 | 1 | \n",
       "| c3 | 2 | 3 | 1 | \n",
       "| c4 | 2 | 3 | 4 | \n",
       "\n",
       "\n"
      ],
      "text/plain": [
       "   k1 k2 k3\n",
       "c1 1  1  1 \n",
       "c2 2  1  1 \n",
       "c3 2  3  1 \n",
       "c4 2  3  4 "
      ]
     },
     "metadata": {},
     "output_type": "display_data"
    }
   ],
   "source": [
    "rownames(test_hierarchy) = paste0('c', seq(nrow(test_hierarchy)))\n",
    "colnames(test_hierarchy) = paste0('k', seq(ncol(test_hierarchy)))\n",
    "test_hierarchy "
   ]
  },
  {
   "cell_type": "code",
   "execution_count": 174,
   "metadata": {},
   "outputs": [],
   "source": [
    "k = ncol(test_hierarchy)"
   ]
  },
  {
   "cell_type": "code",
   "execution_count": 171,
   "metadata": {},
   "outputs": [],
   "source": [
    "n_genes = 50\n",
    "n_cells = 4\n",
    "test_expression = matrix(sample(1:100, n_cells * n_genes, replace=T),\n",
    "                        nrow=n_genes)"
   ]
  },
  {
   "cell_type": "code",
   "execution_count": 173,
   "metadata": {},
   "outputs": [
    {
     "data": {
      "text/html": [
       "<table>\n",
       "<thead><tr><th></th><th scope=col>c1</th><th scope=col>c2</th><th scope=col>c3</th><th scope=col>c4</th></tr></thead>\n",
       "<tbody>\n",
       "\t<tr><th scope=row>gene1</th><td>50</td><td>31</td><td>86</td><td>67</td></tr>\n",
       "\t<tr><th scope=row>gene2</th><td>76</td><td>30</td><td> 5</td><td>91</td></tr>\n",
       "\t<tr><th scope=row>gene3</th><td>65</td><td>15</td><td>75</td><td>95</td></tr>\n",
       "\t<tr><th scope=row>gene4</th><td>85</td><td>96</td><td>46</td><td>12</td></tr>\n",
       "\t<tr><th scope=row>gene5</th><td>67</td><td>40</td><td>93</td><td>26</td></tr>\n",
       "\t<tr><th scope=row>gene6</th><td>92</td><td>24</td><td>82</td><td> 7</td></tr>\n",
       "</tbody>\n",
       "</table>\n"
      ],
      "text/latex": [
       "\\begin{tabular}{r|llll}\n",
       "  & c1 & c2 & c3 & c4\\\\\n",
       "\\hline\n",
       "\tgene1 & 50 & 31 & 86 & 67\\\\\n",
       "\tgene2 & 76 & 30 &  5 & 91\\\\\n",
       "\tgene3 & 65 & 15 & 75 & 95\\\\\n",
       "\tgene4 & 85 & 96 & 46 & 12\\\\\n",
       "\tgene5 & 67 & 40 & 93 & 26\\\\\n",
       "\tgene6 & 92 & 24 & 82 &  7\\\\\n",
       "\\end{tabular}\n"
      ],
      "text/markdown": [
       "\n",
       "| <!--/--> | c1 | c2 | c3 | c4 | \n",
       "|---|---|---|---|---|---|\n",
       "| gene1 | 50 | 31 | 86 | 67 | \n",
       "| gene2 | 76 | 30 |  5 | 91 | \n",
       "| gene3 | 65 | 15 | 75 | 95 | \n",
       "| gene4 | 85 | 96 | 46 | 12 | \n",
       "| gene5 | 67 | 40 | 93 | 26 | \n",
       "| gene6 | 92 | 24 | 82 |  7 | \n",
       "\n",
       "\n"
      ],
      "text/plain": [
       "      c1 c2 c3 c4\n",
       "gene1 50 31 86 67\n",
       "gene2 76 30  5 91\n",
       "gene3 65 15 75 95\n",
       "gene4 85 96 46 12\n",
       "gene5 67 40 93 26\n",
       "gene6 92 24 82  7"
      ]
     },
     "metadata": {},
     "output_type": "display_data"
    }
   ],
   "source": [
    "rownames(test_expression) = paste0('gene', seq(nrow(test_expression)))\n",
    "colnames(test_expression) = paste0('c', seq(ncol(test_expression)))\n",
    "head(test_expression)"
   ]
  },
  {
   "cell_type": "code",
   "execution_count": null,
   "metadata": {},
   "outputs": [],
   "source": [
    "for (i in seq(k)) {\n",
    "    if (i == 1) {\n",
    "        membership_k = test_hierarchy[,k]\n",
    "        OverExpressedGenes(membership_k == unique(membership_k)[1],\n",
    "                           test_)\n",
    "    }\n",
    "}"
   ]
  },
  {
   "cell_type": "markdown",
   "metadata": {},
   "source": [
    "## Test on real dataset"
   ]
  },
  {
   "cell_type": "code",
   "execution_count": null,
   "metadata": {},
   "outputs": [],
   "source": [
    "t3.hierarchy.data = read.table('../../data/treeHierarchy/t3.scaledexpression.cutree.csv',\n",
    "                    row.names=1)"
   ]
  },
  {
   "cell_type": "code",
   "execution_count": 162,
   "metadata": {},
   "outputs": [
    {
     "data": {
      "text/html": [
       "<table>\n",
       "<thead><tr><th></th><th scope=col>Two</th><th scope=col>Four</th><th scope=col>Eight</th><th scope=col>Sixteen</th></tr></thead>\n",
       "<tbody>\n",
       "\t<tr><th scope=row>AAACCTGGTAAATACG.1</th><td>1</td><td>1</td><td>1</td><td>1</td></tr>\n",
       "\t<tr><th scope=row>AAACCTGGTGTGCCTG.1</th><td>1</td><td>2</td><td>2</td><td>2</td></tr>\n",
       "\t<tr><th scope=row>AAACCTGTCAGCTCTC.1</th><td>1</td><td>3</td><td>3</td><td>3</td></tr>\n",
       "\t<tr><th scope=row>AAACGGGAGGGCTTGA.1</th><td>1</td><td>3</td><td>3</td><td>4</td></tr>\n",
       "\t<tr><th scope=row>AAACGGGAGTATCGAA.1</th><td>1</td><td>3</td><td>3</td><td>3</td></tr>\n",
       "\t<tr><th scope=row>AAACGGGCAGTTCCCT.1</th><td>1</td><td>1</td><td>1</td><td>5</td></tr>\n",
       "</tbody>\n",
       "</table>\n"
      ],
      "text/latex": [
       "\\begin{tabular}{r|llll}\n",
       "  & Two & Four & Eight & Sixteen\\\\\n",
       "\\hline\n",
       "\tAAACCTGGTAAATACG.1 & 1 & 1 & 1 & 1\\\\\n",
       "\tAAACCTGGTGTGCCTG.1 & 1 & 2 & 2 & 2\\\\\n",
       "\tAAACCTGTCAGCTCTC.1 & 1 & 3 & 3 & 3\\\\\n",
       "\tAAACGGGAGGGCTTGA.1 & 1 & 3 & 3 & 4\\\\\n",
       "\tAAACGGGAGTATCGAA.1 & 1 & 3 & 3 & 3\\\\\n",
       "\tAAACGGGCAGTTCCCT.1 & 1 & 1 & 1 & 5\\\\\n",
       "\\end{tabular}\n"
      ],
      "text/markdown": [
       "\n",
       "| <!--/--> | Two | Four | Eight | Sixteen | \n",
       "|---|---|---|---|---|---|\n",
       "| AAACCTGGTAAATACG.1 | 1 | 1 | 1 | 1 | \n",
       "| AAACCTGGTGTGCCTG.1 | 1 | 2 | 2 | 2 | \n",
       "| AAACCTGTCAGCTCTC.1 | 1 | 3 | 3 | 3 | \n",
       "| AAACGGGAGGGCTTGA.1 | 1 | 3 | 3 | 4 | \n",
       "| AAACGGGAGTATCGAA.1 | 1 | 3 | 3 | 3 | \n",
       "| AAACGGGCAGTTCCCT.1 | 1 | 1 | 1 | 5 | \n",
       "\n",
       "\n"
      ],
      "text/plain": [
       "                   Two Four Eight Sixteen\n",
       "AAACCTGGTAAATACG.1 1   1    1     1      \n",
       "AAACCTGGTGTGCCTG.1 1   2    2     2      \n",
       "AAACCTGTCAGCTCTC.1 1   3    3     3      \n",
       "AAACGGGAGGGCTTGA.1 1   3    3     4      \n",
       "AAACGGGAGTATCGAA.1 1   3    3     3      \n",
       "AAACGGGCAGTTCCCT.1 1   1    1     5      "
      ]
     },
     "metadata": {},
     "output_type": "display_data"
    }
   ],
   "source": [
    "hierarchy = t3.hierarchy.data[,c('Two', 'Four', 'Eight', 'Sixteen')]\n",
    "head(hierarchy)"
   ]
  }
 ],
 "metadata": {
  "kernelspec": {
   "display_name": "R",
   "language": "R",
   "name": "ir"
  },
  "language_info": {
   "codemirror_mode": "r",
   "file_extension": ".r",
   "mimetype": "text/x-r-source",
   "name": "R",
   "pygments_lexer": "r",
   "version": "3.5.0"
  }
 },
 "nbformat": 4,
 "nbformat_minor": 2
}
