{
 "cells": [
  {
   "cell_type": "markdown",
   "metadata": {},
   "source": [
    "# Naive DE analysis"
   ]
  },
  {
   "cell_type": "code",
   "execution_count": 121,
   "metadata": {},
   "outputs": [],
   "source": [
    "suppressMessages({\n",
    "    library(tidyverse)\n",
    "    library(limma)\n",
    "    library(hashmap)\n",
    "    library(magrittr)\n",
    "})\n"
   ]
  },
  {
   "cell_type": "markdown",
   "metadata": {},
   "source": [
    "## T3"
   ]
  },
  {
   "cell_type": "code",
   "execution_count": 96,
   "metadata": {},
   "outputs": [],
   "source": [
    "t3k.path = '../../data/assafNormedData/T3k.RData'\n",
    "load(t3k.path)\n",
    "t3.tree = tree\n",
    "t3.normalized = normalized "
   ]
  },
  {
   "cell_type": "code",
   "execution_count": 54,
   "metadata": {},
   "outputs": [
    {
     "data": {
      "text/plain": [
       "bottom_id\n",
       "  1   2   3   4   5   6   7   8   9 \n",
       "395 509 803 268 239 373 336 357  81 "
      ]
     },
     "metadata": {},
     "output_type": "display_data"
    },
    {
     "data": {
      "text/html": [
       "<table>\n",
       "<thead><tr><th></th><th scope=col>T3k</th><th scope=col>T3k</th><th scope=col>T3k</th><th scope=col>T3k</th><th scope=col>T3k</th><th scope=col>T3k</th></tr></thead>\n",
       "<tbody>\n",
       "\t<tr><th scope=row>RP11-34P13.7</th><td>0       </td><td>0.00000 </td><td>0.000000</td><td>0.00000 </td><td>0       </td><td>0       </td></tr>\n",
       "\t<tr><th scope=row>FO538757.2</th><td>0       </td><td>1.26122 </td><td>1.197433</td><td>1.27202 </td><td>0       </td><td>0       </td></tr>\n",
       "\t<tr><th scope=row>AP006222.2</th><td>0       </td><td>0.00000 </td><td>0.000000</td><td>0.00000 </td><td>0       </td><td>0       </td></tr>\n",
       "\t<tr><th scope=row>RP4-669L17.10</th><td>0       </td><td>0.00000 </td><td>0.000000</td><td>0.00000 </td><td>0       </td><td>0       </td></tr>\n",
       "\t<tr><th scope=row>RP5-857K21.4</th><td>0       </td><td>0.00000 </td><td>0.000000</td><td>0.00000 </td><td>0       </td><td>0       </td></tr>\n",
       "\t<tr><th scope=row>RP11-206L10.9</th><td>0       </td><td>0.00000 </td><td>0.000000</td><td>0.00000 </td><td>0       </td><td>0       </td></tr>\n",
       "</tbody>\n",
       "</table>\n"
      ],
      "text/latex": [
       "\\begin{tabular}{r|llllll}\n",
       "  & T3k & T3k & T3k & T3k & T3k & T3k\\\\\n",
       "\\hline\n",
       "\tRP11-34P13.7 & 0        & 0.00000  & 0.000000 & 0.00000  & 0        & 0       \\\\\n",
       "\tFO538757.2 & 0        & 1.26122  & 1.197433 & 1.27202  & 0        & 0       \\\\\n",
       "\tAP006222.2 & 0        & 0.00000  & 0.000000 & 0.00000  & 0        & 0       \\\\\n",
       "\tRP4-669L17.10 & 0        & 0.00000  & 0.000000 & 0.00000  & 0        & 0       \\\\\n",
       "\tRP5-857K21.4 & 0        & 0.00000  & 0.000000 & 0.00000  & 0        & 0       \\\\\n",
       "\tRP11-206L10.9 & 0        & 0.00000  & 0.000000 & 0.00000  & 0        & 0       \\\\\n",
       "\\end{tabular}\n"
      ],
      "text/markdown": [
       "\n",
       "| <!--/--> | T3k | T3k | T3k | T3k | T3k | T3k | \n",
       "|---|---|---|---|---|---|\n",
       "| RP11-34P13.7 | 0        | 0.00000  | 0.000000 | 0.00000  | 0        | 0        | \n",
       "| FO538757.2 | 0        | 1.26122  | 1.197433 | 1.27202  | 0        | 0        | \n",
       "| AP006222.2 | 0        | 0.00000  | 0.000000 | 0.00000  | 0        | 0        | \n",
       "| RP4-669L17.10 | 0        | 0.00000  | 0.000000 | 0.00000  | 0        | 0        | \n",
       "| RP5-857K21.4 | 0        | 0.00000  | 0.000000 | 0.00000  | 0        | 0        | \n",
       "| RP11-206L10.9 | 0        | 0.00000  | 0.000000 | 0.00000  | 0        | 0        | \n",
       "\n",
       "\n"
      ],
      "text/plain": [
       "              T3k T3k     T3k      T3k     T3k T3k\n",
       "RP11-34P13.7  0   0.00000 0.000000 0.00000 0   0  \n",
       "FO538757.2    0   1.26122 1.197433 1.27202 0   0  \n",
       "AP006222.2    0   0.00000 0.000000 0.00000 0   0  \n",
       "RP4-669L17.10 0   0.00000 0.000000 0.00000 0   0  \n",
       "RP5-857K21.4  0   0.00000 0.000000 0.00000 0   0  \n",
       "RP11-206L10.9 0   0.00000 0.000000 0.00000 0   0  "
      ]
     },
     "metadata": {},
     "output_type": "display_data"
    }
   ],
   "source": [
    "bottom_id = tree[,ncol(tree)-1]\n",
    "bottom_desc = tree[,ncol(tree)]\n",
    "\n",
    "table(bottom_id)\n",
    "\n",
    "bottom_unique_id = unique(bottom_id)\n",
    "\n",
    "normalized[1:6, 1:6]\n",
    "t3.map = hashmap(bottom_id, bottom_desc)"
   ]
  },
  {
   "cell_type": "code",
   "execution_count": 31,
   "metadata": {},
   "outputs": [],
   "source": [
    "q_thresh = 0.1\n",
    "FC_thresh = 1.2\n",
    "\n",
    "FC_genes_all = c()\n",
    "for (unique_id in bottom_unique_id) {\n",
    "    is_in_id = bottom_id == unique_id\n",
    "    #print(sum(is_in_id))\n",
    "    #print(length(bottom_id))\n",
    "    design = model.matrix(~is_in_id)\n",
    "    my.lm = limma::lmFit(normalized, design=design)\n",
    "    my.lm = eBayes(my.lm)\n",
    "    FC_genes = topTable(my.lm, number=Inf, coef = seq(2,ncol(design)))\n",
    "    FC_genes = FC_genes[FC_genes$adj.P.Val < q_thresh, c('logFC', 'adj.P.Val')]\n",
    "    FC_genes = FC_genes[FC_genes$logFC > log(FC_thresh, base=2),]\n",
    "    FC_genes = FC_genes[order(FC_genes$logFC, decreasing=T),]\n",
    "    FC_genes$id = unique_id\n",
    "    FC_genes_all = rbind(FC_genes_all, FC_genes)\n",
    "}"
   ]
  },
  {
   "cell_type": "code",
   "execution_count": 32,
   "metadata": {},
   "outputs": [
    {
     "data": {
      "text/plain": [
       "\n",
       "  1   2   3   4   5   6   7   8   9 \n",
       " 58  37  36  60 203  66  11  24 142 "
      ]
     },
     "metadata": {},
     "output_type": "display_data"
    }
   ],
   "source": [
    "table(FC_genes_all$id)"
   ]
  },
  {
   "cell_type": "code",
   "execution_count": 34,
   "metadata": {},
   "outputs": [],
   "source": [
    "FC_genes_FC1_2 = FC_genes_all"
   ]
  },
  {
   "cell_type": "markdown",
   "metadata": {},
   "source": [
    "## Repeat for T4 data set"
   ]
  },
  {
   "cell_type": "code",
   "execution_count": 97,
   "metadata": {},
   "outputs": [],
   "source": [
    "t4k.path = '../../data/assafNormedData/T4k.RData'\n",
    "load(t4k.path)\n",
    "t4.tree = tree\n",
    "t4.normalized = normalized "
   ]
  },
  {
   "cell_type": "code",
   "execution_count": 58,
   "metadata": {},
   "outputs": [
    {
     "data": {
      "text/plain": [
       "bottom_id\n",
       "  1  10  11   2   3   4   5   6   7   8   9 \n",
       "263 584 272 255 515 347 330 648 569  73 431 "
      ]
     },
     "metadata": {},
     "output_type": "display_data"
    },
    {
     "data": {
      "text/html": [
       "<table>\n",
       "<thead><tr><th></th><th scope=col>T4k</th><th scope=col>T4k</th><th scope=col>T4k</th><th scope=col>T4k</th><th scope=col>T4k</th><th scope=col>T4k</th></tr></thead>\n",
       "<tbody>\n",
       "\t<tr><th scope=row>RP11-34P13.7</th><td>0       </td><td>0       </td><td>0       </td><td>0.000000</td><td>0       </td><td>0.000000</td></tr>\n",
       "\t<tr><th scope=row>FO538757.2</th><td>0       </td><td>0       </td><td>0       </td><td>1.285298</td><td>0       </td><td>0.000000</td></tr>\n",
       "\t<tr><th scope=row>AP006222.2</th><td>0       </td><td>0       </td><td>0       </td><td>0.000000</td><td>0       </td><td>1.537649</td></tr>\n",
       "\t<tr><th scope=row>RP4-669L17.10</th><td>0       </td><td>0       </td><td>0       </td><td>0.000000</td><td>0       </td><td>0.000000</td></tr>\n",
       "\t<tr><th scope=row>RP5-857K21.4</th><td>0       </td><td>0       </td><td>0       </td><td>0.000000</td><td>0       </td><td>0.000000</td></tr>\n",
       "\t<tr><th scope=row>RP11-206L10.9</th><td>0       </td><td>0       </td><td>0       </td><td>0.000000</td><td>0       </td><td>0.000000</td></tr>\n",
       "</tbody>\n",
       "</table>\n"
      ],
      "text/latex": [
       "\\begin{tabular}{r|llllll}\n",
       "  & T4k & T4k & T4k & T4k & T4k & T4k\\\\\n",
       "\\hline\n",
       "\tRP11-34P13.7 & 0        & 0        & 0        & 0.000000 & 0        & 0.000000\\\\\n",
       "\tFO538757.2 & 0        & 0        & 0        & 1.285298 & 0        & 0.000000\\\\\n",
       "\tAP006222.2 & 0        & 0        & 0        & 0.000000 & 0        & 1.537649\\\\\n",
       "\tRP4-669L17.10 & 0        & 0        & 0        & 0.000000 & 0        & 0.000000\\\\\n",
       "\tRP5-857K21.4 & 0        & 0        & 0        & 0.000000 & 0        & 0.000000\\\\\n",
       "\tRP11-206L10.9 & 0        & 0        & 0        & 0.000000 & 0        & 0.000000\\\\\n",
       "\\end{tabular}\n"
      ],
      "text/markdown": [
       "\n",
       "| <!--/--> | T4k | T4k | T4k | T4k | T4k | T4k | \n",
       "|---|---|---|---|---|---|\n",
       "| RP11-34P13.7 | 0        | 0        | 0        | 0.000000 | 0        | 0.000000 | \n",
       "| FO538757.2 | 0        | 0        | 0        | 1.285298 | 0        | 0.000000 | \n",
       "| AP006222.2 | 0        | 0        | 0        | 0.000000 | 0        | 1.537649 | \n",
       "| RP4-669L17.10 | 0        | 0        | 0        | 0.000000 | 0        | 0.000000 | \n",
       "| RP5-857K21.4 | 0        | 0        | 0        | 0.000000 | 0        | 0.000000 | \n",
       "| RP11-206L10.9 | 0        | 0        | 0        | 0.000000 | 0        | 0.000000 | \n",
       "\n",
       "\n"
      ],
      "text/plain": [
       "              T4k T4k T4k T4k      T4k T4k     \n",
       "RP11-34P13.7  0   0   0   0.000000 0   0.000000\n",
       "FO538757.2    0   0   0   1.285298 0   0.000000\n",
       "AP006222.2    0   0   0   0.000000 0   1.537649\n",
       "RP4-669L17.10 0   0   0   0.000000 0   0.000000\n",
       "RP5-857K21.4  0   0   0   0.000000 0   0.000000\n",
       "RP11-206L10.9 0   0   0   0.000000 0   0.000000"
      ]
     },
     "metadata": {},
     "output_type": "display_data"
    }
   ],
   "source": [
    "bottom_id = tree[,ncol(tree)-1]\n",
    "bottom_desc = tree[,ncol(tree)]\n",
    "\n",
    "table(bottom_id)\n",
    "bottom_unique_id = unique(bottom_id)\n",
    "normalized[1:6, 1:6]\n",
    "\n",
    "t4.map = hashmap(bottom_id, bottom_desc)"
   ]
  },
  {
   "cell_type": "code",
   "execution_count": 35,
   "metadata": {},
   "outputs": [],
   "source": [
    "q_thresh = 0.1\n",
    "FC_thresh = 1.2\n",
    "\n",
    "FC_genes_all = c()\n",
    "for (unique_id in bottom_unique_id) {\n",
    "    is_in_id = bottom_id == unique_id\n",
    "    #print(sum(is_in_id))\n",
    "    #print(length(bottom_id))\n",
    "    design = model.matrix(~is_in_id)\n",
    "    my.lm = limma::lmFit(normalized, design=design)\n",
    "    my.lm = eBayes(my.lm)\n",
    "    FC_genes = topTable(my.lm, number=Inf, coef = seq(2,ncol(design)))\n",
    "    FC_genes = FC_genes[FC_genes$adj.P.Val < q_thresh, c('logFC', 'adj.P.Val')]\n",
    "    FC_genes = FC_genes[FC_genes$logFC > log(FC_thresh, base=2),]\n",
    "    FC_genes = FC_genes[order(FC_genes$logFC, decreasing=T),]\n",
    "    FC_genes$id = unique_id\n",
    "    FC_genes_all = rbind(FC_genes_all, FC_genes)\n",
    "}"
   ]
  },
  {
   "cell_type": "code",
   "execution_count": 36,
   "metadata": {},
   "outputs": [
    {
     "data": {
      "text/plain": [
       "\n",
       "  1  10  11   2   3   4   5   6   7   8   9 \n",
       "  5  36 223  19  21  51  74  37  62 158  79 "
      ]
     },
     "metadata": {},
     "output_type": "display_data"
    }
   ],
   "source": [
    "table(FC_genes_all$id)"
   ]
  },
  {
   "cell_type": "code",
   "execution_count": 37,
   "metadata": {},
   "outputs": [],
   "source": [
    "FC_genes_t4_1_2 = FC_genes_all"
   ]
  },
  {
   "cell_type": "code",
   "execution_count": 38,
   "metadata": {},
   "outputs": [
    {
     "data": {
      "text/html": [
       "<table>\n",
       "<thead><tr><th></th><th scope=col>logFC</th><th scope=col>adj.P.Val</th><th scope=col>id</th></tr></thead>\n",
       "<tbody>\n",
       "\t<tr><th scope=row>FOS</th><td>0.6459973   </td><td>2.191306e-19</td><td>1           </td></tr>\n",
       "\t<tr><th scope=row>JUN</th><td>0.5801561   </td><td>4.504445e-14</td><td>1           </td></tr>\n",
       "\t<tr><th scope=row>IER2</th><td>0.3028873   </td><td>2.385878e-04</td><td>1           </td></tr>\n",
       "\t<tr><th scope=row>TSHZ2</th><td>0.2847612   </td><td>8.808492e-17</td><td>1           </td></tr>\n",
       "\t<tr><th scope=row>TXNIP</th><td>0.2672681   </td><td>8.656441e-04</td><td>1           </td></tr>\n",
       "\t<tr><th scope=row>GIMAP7</th><td>0.7053506   </td><td>2.128720e-37</td><td>2           </td></tr>\n",
       "</tbody>\n",
       "</table>\n"
      ],
      "text/latex": [
       "\\begin{tabular}{r|lll}\n",
       "  & logFC & adj.P.Val & id\\\\\n",
       "\\hline\n",
       "\tFOS & 0.6459973    & 2.191306e-19 & 1           \\\\\n",
       "\tJUN & 0.5801561    & 4.504445e-14 & 1           \\\\\n",
       "\tIER2 & 0.3028873    & 2.385878e-04 & 1           \\\\\n",
       "\tTSHZ2 & 0.2847612    & 8.808492e-17 & 1           \\\\\n",
       "\tTXNIP & 0.2672681    & 8.656441e-04 & 1           \\\\\n",
       "\tGIMAP7 & 0.7053506    & 2.128720e-37 & 2           \\\\\n",
       "\\end{tabular}\n"
      ],
      "text/markdown": [
       "\n",
       "| <!--/--> | logFC | adj.P.Val | id | \n",
       "|---|---|---|---|---|---|\n",
       "| FOS | 0.6459973    | 2.191306e-19 | 1            | \n",
       "| JUN | 0.5801561    | 4.504445e-14 | 1            | \n",
       "| IER2 | 0.3028873    | 2.385878e-04 | 1            | \n",
       "| TSHZ2 | 0.2847612    | 8.808492e-17 | 1            | \n",
       "| TXNIP | 0.2672681    | 8.656441e-04 | 1            | \n",
       "| GIMAP7 | 0.7053506    | 2.128720e-37 | 2            | \n",
       "\n",
       "\n"
      ],
      "text/plain": [
       "       logFC     adj.P.Val    id\n",
       "FOS    0.6459973 2.191306e-19 1 \n",
       "JUN    0.5801561 4.504445e-14 1 \n",
       "IER2   0.3028873 2.385878e-04 1 \n",
       "TSHZ2  0.2847612 8.808492e-17 1 \n",
       "TXNIP  0.2672681 8.656441e-04 1 \n",
       "GIMAP7 0.7053506 2.128720e-37 2 "
      ]
     },
     "metadata": {},
     "output_type": "display_data"
    }
   ],
   "source": [
    "head(FC_genes_t4_1_2)"
   ]
  },
  {
   "cell_type": "markdown",
   "metadata": {},
   "source": [
    "## Jaccard index"
   ]
  },
  {
   "cell_type": "code",
   "execution_count": 50,
   "metadata": {},
   "outputs": [],
   "source": [
    "############################################# Jaccard ########################################\n",
    "# input: 2 matrices of n (diff. expressed genes) x 2 --> 1 for each experiment\n",
    "#inputA<-data.frame(gene=c(\"a\",\"b\",\"c\",\"d\",\"e\",\"f\",\"g\"),node=c(121,121,121,121,122,122,122))\n",
    "#inputB<-data.frame(gene=c(\"a\",\"b\",\"c\",\"d\",\"e\",\"f\",\"g\"),node=c(123,123,124,124,124,124,124))\n",
    "get_jaccard<-function(inputA, inputB){\n",
    " splitA<-split(inputA,inputA$node)\n",
    " splitB<-split(inputB,inputB$node)\n",
    " num<-as.numeric(length(splitA)*length(splitB))\n",
    " jc<-data.frame(matrix(ncol=3,nrow=num))\n",
    " k=0\n",
    " for (i in seq(length(splitA))){\n",
    "   v1<-splitA[[i]]$gene\n",
    "   for (j in seq(length(splitB))){\n",
    "     k=k+1\n",
    "     print\n",
    "     v2<-splitB[[j]]$gene\n",
    "     jaccard_calc<-length(intersect(v1,v2))/length(union(v1,v2))\n",
    "     jc[k,]<-c(names(splitA)[i],names(splitB)[j],jaccard_calc)\n",
    "   }\n",
    " }\n",
    " jc$X3<-as.numeric(jc$X3)\n",
    " jc2<-matrix(jc$X3,nrow=length(unique(jc$X1)),ncol=length(unique(jc$X2)), byrow = TRUE)\n",
    " colnames(jc)<-c(\"node_exp1\",\"node_exp2\",\"j_indx\")\n",
    " rownames(jc2)<-names(splitA)\n",
    " colnames(jc2)<-names(splitB)\n",
    " return(list(jc=jc,jc2=jc2))\n",
    "}\n"
   ]
  },
  {
   "cell_type": "code",
   "execution_count": 61,
   "metadata": {},
   "outputs": [],
   "source": [
    "inputA = FC_genes_FC1_2\n",
    "\n",
    "inputA$gene = rownames(inputA)\n",
    "inputA$node = sapply(inputA$id, function(x) t3.map[[x]])"
   ]
  },
  {
   "cell_type": "code",
   "execution_count": 62,
   "metadata": {},
   "outputs": [
    {
     "data": {
      "text/html": [
       "<table>\n",
       "<thead><tr><th></th><th scope=col>logFC</th><th scope=col>adj.P.Val</th><th scope=col>id</th><th scope=col>gene</th><th scope=col>node</th></tr></thead>\n",
       "<tbody>\n",
       "\t<tr><th scope=row>JUNB</th><td>0.7467553   </td><td>3.660882e-42</td><td>1           </td><td>JUNB        </td><td>CD4.Tfh.1   </td></tr>\n",
       "\t<tr><th scope=row>ANXA1</th><td>0.7440702   </td><td>3.119825e-34</td><td>1           </td><td>ANXA1       </td><td>CD4.Tfh.1   </td></tr>\n",
       "\t<tr><th scope=row>RGCC</th><td>0.7267831   </td><td>5.773653e-32</td><td>1           </td><td>RGCC        </td><td>CD4.Tfh.1   </td></tr>\n",
       "\t<tr><th scope=row>ZFP36</th><td>0.6824666   </td><td>9.066057e-31</td><td>1           </td><td>ZFP36       </td><td>CD4.Tfh.1   </td></tr>\n",
       "\t<tr><th scope=row>SRGN</th><td>0.6725841   </td><td>1.985947e-36</td><td>1           </td><td>SRGN        </td><td>CD4.Tfh.1   </td></tr>\n",
       "\t<tr><th scope=row>LMNA</th><td>0.6531392   </td><td>2.314893e-29</td><td>1           </td><td>LMNA        </td><td>CD4.Tfh.1   </td></tr>\n",
       "</tbody>\n",
       "</table>\n"
      ],
      "text/latex": [
       "\\begin{tabular}{r|lllll}\n",
       "  & logFC & adj.P.Val & id & gene & node\\\\\n",
       "\\hline\n",
       "\tJUNB & 0.7467553    & 3.660882e-42 & 1            & JUNB         & CD4.Tfh.1   \\\\\n",
       "\tANXA1 & 0.7440702    & 3.119825e-34 & 1            & ANXA1        & CD4.Tfh.1   \\\\\n",
       "\tRGCC & 0.7267831    & 5.773653e-32 & 1            & RGCC         & CD4.Tfh.1   \\\\\n",
       "\tZFP36 & 0.6824666    & 9.066057e-31 & 1            & ZFP36        & CD4.Tfh.1   \\\\\n",
       "\tSRGN & 0.6725841    & 1.985947e-36 & 1            & SRGN         & CD4.Tfh.1   \\\\\n",
       "\tLMNA & 0.6531392    & 2.314893e-29 & 1            & LMNA         & CD4.Tfh.1   \\\\\n",
       "\\end{tabular}\n"
      ],
      "text/markdown": [
       "\n",
       "| <!--/--> | logFC | adj.P.Val | id | gene | node | \n",
       "|---|---|---|---|---|---|\n",
       "| JUNB | 0.7467553    | 3.660882e-42 | 1            | JUNB         | CD4.Tfh.1    | \n",
       "| ANXA1 | 0.7440702    | 3.119825e-34 | 1            | ANXA1        | CD4.Tfh.1    | \n",
       "| RGCC | 0.7267831    | 5.773653e-32 | 1            | RGCC         | CD4.Tfh.1    | \n",
       "| ZFP36 | 0.6824666    | 9.066057e-31 | 1            | ZFP36        | CD4.Tfh.1    | \n",
       "| SRGN | 0.6725841    | 1.985947e-36 | 1            | SRGN         | CD4.Tfh.1    | \n",
       "| LMNA | 0.6531392    | 2.314893e-29 | 1            | LMNA         | CD4.Tfh.1    | \n",
       "\n",
       "\n"
      ],
      "text/plain": [
       "      logFC     adj.P.Val    id gene  node     \n",
       "JUNB  0.7467553 3.660882e-42 1  JUNB  CD4.Tfh.1\n",
       "ANXA1 0.7440702 3.119825e-34 1  ANXA1 CD4.Tfh.1\n",
       "RGCC  0.7267831 5.773653e-32 1  RGCC  CD4.Tfh.1\n",
       "ZFP36 0.6824666 9.066057e-31 1  ZFP36 CD4.Tfh.1\n",
       "SRGN  0.6725841 1.985947e-36 1  SRGN  CD4.Tfh.1\n",
       "LMNA  0.6531392 2.314893e-29 1  LMNA  CD4.Tfh.1"
      ]
     },
     "metadata": {},
     "output_type": "display_data"
    }
   ],
   "source": [
    "head(inputA)"
   ]
  },
  {
   "cell_type": "code",
   "execution_count": 63,
   "metadata": {},
   "outputs": [],
   "source": [
    "inputB = FC_genes_t4_1_2\n",
    "inputB$gene = rownames(inputB)\n",
    "inputB$node = sapply(inputB$id, function(x) t4.map[[x]])"
   ]
  },
  {
   "cell_type": "code",
   "execution_count": 64,
   "metadata": {},
   "outputs": [
    {
     "data": {
      "text/html": [
       "<table>\n",
       "<thead><tr><th></th><th scope=col>logFC</th><th scope=col>adj.P.Val</th><th scope=col>id</th><th scope=col>gene</th><th scope=col>node</th></tr></thead>\n",
       "<tbody>\n",
       "\t<tr><th scope=row>FOS</th><td>0.6459973   </td><td>2.191306e-19</td><td>1           </td><td>FOS         </td><td>CD4.Icos.2  </td></tr>\n",
       "\t<tr><th scope=row>JUN</th><td>0.5801561   </td><td>4.504445e-14</td><td>1           </td><td>JUN         </td><td>CD4.Icos.2  </td></tr>\n",
       "\t<tr><th scope=row>IER2</th><td>0.3028873   </td><td>2.385878e-04</td><td>1           </td><td>IER2        </td><td>CD4.Icos.2  </td></tr>\n",
       "\t<tr><th scope=row>TSHZ2</th><td>0.2847612   </td><td>8.808492e-17</td><td>1           </td><td>TSHZ2       </td><td>CD4.Icos.2  </td></tr>\n",
       "\t<tr><th scope=row>TXNIP</th><td>0.2672681   </td><td>8.656441e-04</td><td>1           </td><td>TXNIP       </td><td>CD4.Icos.2  </td></tr>\n",
       "\t<tr><th scope=row>GIMAP7</th><td>0.7053506   </td><td>2.128720e-37</td><td>2           </td><td>GIMAP7      </td><td>CD8.1       </td></tr>\n",
       "</tbody>\n",
       "</table>\n"
      ],
      "text/latex": [
       "\\begin{tabular}{r|lllll}\n",
       "  & logFC & adj.P.Val & id & gene & node\\\\\n",
       "\\hline\n",
       "\tFOS & 0.6459973    & 2.191306e-19 & 1            & FOS          & CD4.Icos.2  \\\\\n",
       "\tJUN & 0.5801561    & 4.504445e-14 & 1            & JUN          & CD4.Icos.2  \\\\\n",
       "\tIER2 & 0.3028873    & 2.385878e-04 & 1            & IER2         & CD4.Icos.2  \\\\\n",
       "\tTSHZ2 & 0.2847612    & 8.808492e-17 & 1            & TSHZ2        & CD4.Icos.2  \\\\\n",
       "\tTXNIP & 0.2672681    & 8.656441e-04 & 1            & TXNIP        & CD4.Icos.2  \\\\\n",
       "\tGIMAP7 & 0.7053506    & 2.128720e-37 & 2            & GIMAP7       & CD8.1       \\\\\n",
       "\\end{tabular}\n"
      ],
      "text/markdown": [
       "\n",
       "| <!--/--> | logFC | adj.P.Val | id | gene | node | \n",
       "|---|---|---|---|---|---|\n",
       "| FOS | 0.6459973    | 2.191306e-19 | 1            | FOS          | CD4.Icos.2   | \n",
       "| JUN | 0.5801561    | 4.504445e-14 | 1            | JUN          | CD4.Icos.2   | \n",
       "| IER2 | 0.3028873    | 2.385878e-04 | 1            | IER2         | CD4.Icos.2   | \n",
       "| TSHZ2 | 0.2847612    | 8.808492e-17 | 1            | TSHZ2        | CD4.Icos.2   | \n",
       "| TXNIP | 0.2672681    | 8.656441e-04 | 1            | TXNIP        | CD4.Icos.2   | \n",
       "| GIMAP7 | 0.7053506    | 2.128720e-37 | 2            | GIMAP7       | CD8.1        | \n",
       "\n",
       "\n"
      ],
      "text/plain": [
       "       logFC     adj.P.Val    id gene   node      \n",
       "FOS    0.6459973 2.191306e-19 1  FOS    CD4.Icos.2\n",
       "JUN    0.5801561 4.504445e-14 1  JUN    CD4.Icos.2\n",
       "IER2   0.3028873 2.385878e-04 1  IER2   CD4.Icos.2\n",
       "TSHZ2  0.2847612 8.808492e-17 1  TSHZ2  CD4.Icos.2\n",
       "TXNIP  0.2672681 8.656441e-04 1  TXNIP  CD4.Icos.2\n",
       "GIMAP7 0.7053506 2.128720e-37 2  GIMAP7 CD8.1     "
      ]
     },
     "metadata": {},
     "output_type": "display_data"
    }
   ],
   "source": [
    "head(inputB)"
   ]
  },
  {
   "cell_type": "code",
   "execution_count": 69,
   "metadata": {},
   "outputs": [
    {
     "data": {
      "text/html": [
       "<table>\n",
       "<thead><tr><th scope=col>node_exp1</th><th scope=col>node_exp2</th><th scope=col>j_indx</th></tr></thead>\n",
       "<tbody>\n",
       "\t<tr><td>CD4.Tfh.1 </td><td>CD4_Th1.2 </td><td>0.03947368</td></tr>\n",
       "\t<tr><td>CD4.Tfh.1 </td><td>CD4.Icos.1</td><td>0.00000000</td></tr>\n",
       "\t<tr><td>CD4.Tfh.1 </td><td>CD4.Icos.2</td><td>0.01612903</td></tr>\n",
       "\t<tr><td>CD4.Tfh.1 </td><td>CD4.Tfh.1 </td><td>0.37974684</td></tr>\n",
       "\t<tr><td>CD4.Tfh.1 </td><td>CD4.Tfh.2 </td><td>0.15384615</td></tr>\n",
       "\t<tr><td>CD4.Tfh.1 </td><td>CD4.Th1.1 </td><td>0.02238806</td></tr>\n",
       "</tbody>\n",
       "</table>\n"
      ],
      "text/latex": [
       "\\begin{tabular}{r|lll}\n",
       " node\\_exp1 & node\\_exp2 & j\\_indx\\\\\n",
       "\\hline\n",
       "\t CD4.Tfh.1    & CD4\\_Th1.2  & 0.03947368  \\\\\n",
       "\t CD4.Tfh.1  & CD4.Icos.1 & 0.00000000\\\\\n",
       "\t CD4.Tfh.1  & CD4.Icos.2 & 0.01612903\\\\\n",
       "\t CD4.Tfh.1  & CD4.Tfh.1  & 0.37974684\\\\\n",
       "\t CD4.Tfh.1  & CD4.Tfh.2  & 0.15384615\\\\\n",
       "\t CD4.Tfh.1  & CD4.Th1.1  & 0.02238806\\\\\n",
       "\\end{tabular}\n"
      ],
      "text/markdown": [
       "\n",
       "node_exp1 | node_exp2 | j_indx | \n",
       "|---|---|---|---|---|---|\n",
       "| CD4.Tfh.1  | CD4_Th1.2  | 0.03947368 | \n",
       "| CD4.Tfh.1  | CD4.Icos.1 | 0.00000000 | \n",
       "| CD4.Tfh.1  | CD4.Icos.2 | 0.01612903 | \n",
       "| CD4.Tfh.1  | CD4.Tfh.1  | 0.37974684 | \n",
       "| CD4.Tfh.1  | CD4.Tfh.2  | 0.15384615 | \n",
       "| CD4.Tfh.1  | CD4.Th1.1  | 0.02238806 | \n",
       "\n",
       "\n"
      ],
      "text/plain": [
       "  node_exp1 node_exp2  j_indx    \n",
       "1 CD4.Tfh.1 CD4_Th1.2  0.03947368\n",
       "2 CD4.Tfh.1 CD4.Icos.1 0.00000000\n",
       "3 CD4.Tfh.1 CD4.Icos.2 0.01612903\n",
       "4 CD4.Tfh.1 CD4.Tfh.1  0.37974684\n",
       "5 CD4.Tfh.1 CD4.Tfh.2  0.15384615\n",
       "6 CD4.Tfh.1 CD4.Th1.1  0.02238806"
      ]
     },
     "metadata": {},
     "output_type": "display_data"
    }
   ],
   "source": [
    "head(j$jc)"
   ]
  },
  {
   "cell_type": "code",
   "execution_count": 70,
   "metadata": {},
   "outputs": [],
   "source": [
    "options(repr.plot.width=6, repr.plot.width=10)\n",
    "j<-get_jaccard(inputA,inputB)\n",
    "p.jaccard = j$jc %>%\n",
    " ggplot(data=., aes(node_exp1,node_exp2)) +\n",
    " geom_tile(aes(fill=j_indx), colour=\"white\") +\n",
    " scale_fill_gradient(low=\"white\", high=\"steelblue\") "
   ]
  },
  {
   "cell_type": "code",
   "execution_count": 71,
   "metadata": {},
   "outputs": [
    {
     "data": {},
     "metadata": {},
     "output_type": "display_data"
    },
    {
     "data": {
      "image/png": "[encoded data removed]",
      "text/plain": [
       "plot without title"
      ]
     },
     "metadata": {},
     "output_type": "display_data"
    }
   ],
   "source": [
    "p.jaccard"
   ]
  },
  {
   "cell_type": "code",
   "execution_count": 73,
   "metadata": {},
   "outputs": [],
   "source": [
    "ggsave(p.jaccard, file='../../figures/jaccard.pdf', width=8, height=6)"
   ]
  },
  {
   "cell_type": "code",
   "execution_count": 76,
   "metadata": {},
   "outputs": [
    {
     "data": {
      "text/html": [
       "<table>\n",
       "<thead><tr><th scope=col>vector</th><th scope=col>vector</th><th scope=col>vector</th><th scope=col>vector</th><th scope=col>vector</th><th scope=col>vector</th><th scope=col>vector</th><th scope=col>vector</th><th scope=col>vector</th><th scope=col>vector</th><th scope=col></th></tr></thead>\n",
       "<tbody>\n",
       "\t<tr><td>1         </td><td>1         </td><td>1         </td><td>1         </td><td>1         </td><td>1         </td><td>1         </td><td>1         </td><td>1         </td><td>1         </td><td>CD4.Icos.2</td></tr>\n",
       "\t<tr><td>1         </td><td>1         </td><td>1         </td><td>1         </td><td>1         </td><td>2         </td><td>2         </td><td>2         </td><td>2         </td><td>2         </td><td>CD8.1     </td></tr>\n",
       "\t<tr><td>1         </td><td>1         </td><td>1         </td><td>1         </td><td>1         </td><td>1         </td><td>1         </td><td>3         </td><td>3         </td><td>3         </td><td>CD4_Th1.2 </td></tr>\n",
       "\t<tr><td>1         </td><td>1         </td><td>2         </td><td>2         </td><td>2         </td><td>3         </td><td>3         </td><td>4         </td><td>4         </td><td>4         </td><td>CD4.Tfh.1 </td></tr>\n",
       "\t<tr><td>1         </td><td>1         </td><td>1         </td><td>1         </td><td>1         </td><td>1         </td><td>1         </td><td>3         </td><td>3         </td><td>3         </td><td>CD4_Th1.2 </td></tr>\n",
       "\t<tr><td>2         </td><td>2         </td><td>3         </td><td>3         </td><td>3         </td><td>4         </td><td>4         </td><td>5         </td><td>5         </td><td>5         </td><td>CD8.CTL.1 </td></tr>\n",
       "</tbody>\n",
       "</table>\n"
      ],
      "text/latex": [
       "\\begin{tabular}{lllllllllll}\n",
       " vector & vector & vector & vector & vector & vector & vector & vector & vector & vector & \\\\\n",
       "\\hline\n",
       "\t 1          & 1          & 1          & 1          & 1          & 1          & 1          & 1          & 1          & 1          & CD4.Icos.2\\\\\n",
       "\t 1          & 1          & 1          & 1          & 1          & 2          & 2          & 2          & 2          & 2          & CD8.1     \\\\\n",
       "\t 1            & 1            & 1            & 1            & 1            & 1            & 1            & 3            & 3            & 3            & CD4\\_Th1.2 \\\\\n",
       "\t 1          & 1          & 2          & 2          & 2          & 3          & 3          & 4          & 4          & 4          & CD4.Tfh.1 \\\\\n",
       "\t 1            & 1            & 1            & 1            & 1            & 1            & 1            & 3            & 3            & 3            & CD4\\_Th1.2 \\\\\n",
       "\t 2          & 2          & 3          & 3          & 3          & 4          & 4          & 5          & 5          & 5          & CD8.CTL.1 \\\\\n",
       "\\end{tabular}\n"
      ],
      "text/markdown": [
       "\n",
       "vector | vector | vector | vector | vector | vector | vector | vector | vector | vector |  | \n",
       "|---|---|---|---|---|---|\n",
       "| 1          | 1          | 1          | 1          | 1          | 1          | 1          | 1          | 1          | 1          | CD4.Icos.2 | \n",
       "| 1          | 1          | 1          | 1          | 1          | 2          | 2          | 2          | 2          | 2          | CD8.1      | \n",
       "| 1          | 1          | 1          | 1          | 1          | 1          | 1          | 3          | 3          | 3          | CD4_Th1.2  | \n",
       "| 1          | 1          | 2          | 2          | 2          | 3          | 3          | 4          | 4          | 4          | CD4.Tfh.1  | \n",
       "| 1          | 1          | 1          | 1          | 1          | 1          | 1          | 3          | 3          | 3          | CD4_Th1.2  | \n",
       "| 2          | 2          | 3          | 3          | 3          | 4          | 4          | 5          | 5          | 5          | CD8.CTL.1  | \n",
       "\n",
       "\n"
      ],
      "text/plain": [
       "     vector vector vector vector vector vector vector vector vector vector\n",
       "[1,] 1      1      1      1      1      1      1      1      1      1     \n",
       "[2,] 1      1      1      1      1      2      2      2      2      2     \n",
       "[3,] 1      1      1      1      1      1      1      3      3      3     \n",
       "[4,] 1      1      2      2      2      3      3      4      4      4     \n",
       "[5,] 1      1      1      1      1      1      1      3      3      3     \n",
       "[6,] 2      2      3      3      3      4      4      5      5      5     \n",
       "               \n",
       "[1,] CD4.Icos.2\n",
       "[2,] CD8.1     \n",
       "[3,] CD4_Th1.2 \n",
       "[4,] CD4.Tfh.1 \n",
       "[5,] CD4_Th1.2 \n",
       "[6,] CD8.CTL.1 "
      ]
     },
     "metadata": {},
     "output_type": "display_data"
    }
   ],
   "source": [
    "head(tree)"
   ]
  },
  {
   "cell_type": "code",
   "execution_count": 81,
   "metadata": {},
   "outputs": [],
   "source": [
    "K = seq(ncol(tree) - 2)\n",
    "tree_subset = tree[,K]"
   ]
  },
  {
   "cell_type": "code",
   "execution_count": 110,
   "metadata": {},
   "outputs": [],
   "source": [
    "t3.tree.subset = t3.tree[,1:(ncol(t3.tree)-2)]\n",
    "t3.desc = t3.tree[,ncol(t3.tree)]\n",
    "t3.unique_cluster_numbers = apply(t3.tree.subset, 2, function(x) length(unique(x)))"
   ]
  },
  {
   "cell_type": "code",
   "execution_count": 116,
   "metadata": {},
   "outputs": [
    {
     "data": {
      "text/html": [
       "<dl class=dl-horizontal>\n",
       "\t<dt>vector</dt>\n",
       "\t\t<dd>2</dd>\n",
       "\t<dt>vector</dt>\n",
       "\t\t<dd>3</dd>\n",
       "\t<dt>vector</dt>\n",
       "\t\t<dd>4</dd>\n",
       "\t<dt>vector</dt>\n",
       "\t\t<dd>5</dd>\n",
       "\t<dt>vector</dt>\n",
       "\t\t<dd>6</dd>\n",
       "\t<dt>vector</dt>\n",
       "\t\t<dd>7</dd>\n",
       "</dl>\n"
      ],
      "text/latex": [
       "\\begin{description*}\n",
       "\\item[vector] 2\n",
       "\\item[vector] 3\n",
       "\\item[vector] 4\n",
       "\\item[vector] 5\n",
       "\\item[vector] 6\n",
       "\\item[vector] 7\n",
       "\\end{description*}\n"
      ],
      "text/markdown": [
       "vector\n",
       ":   2vector\n",
       ":   3vector\n",
       ":   4vector\n",
       ":   5vector\n",
       ":   6vector\n",
       ":   7\n",
       "\n"
      ],
      "text/plain": [
       "vector vector vector vector vector vector \n",
       "     2      3      4      5      6      7 "
      ]
     },
     "metadata": {},
     "output_type": "display_data"
    }
   ],
   "source": [
    "head(t3.unique_cluster_numbers)"
   ]
  },
  {
   "cell_type": "code",
   "execution_count": 113,
   "metadata": {},
   "outputs": [],
   "source": [
    "t4.tree.subset = t4.tree[,1:(ncol(t4.tree)-2)]\n",
    "t4.desc = t4.tree[,ncol(t4.tree)]\n",
    "t4.unique_cluster_numbers = apply(t4.tree.subset, 2, function(x) length(unique(x)))"
   ]
  },
  {
   "cell_type": "code",
   "execution_count": 115,
   "metadata": {},
   "outputs": [
    {
     "data": {
      "text/html": [
       "<dl class=dl-horizontal>\n",
       "\t<dt>vector</dt>\n",
       "\t\t<dd>2</dd>\n",
       "\t<dt>vector</dt>\n",
       "\t\t<dd>3</dd>\n",
       "\t<dt>vector</dt>\n",
       "\t\t<dd>4</dd>\n",
       "\t<dt>vector</dt>\n",
       "\t\t<dd>5</dd>\n",
       "\t<dt>vector</dt>\n",
       "\t\t<dd>6</dd>\n",
       "\t<dt>vector</dt>\n",
       "\t\t<dd>7</dd>\n",
       "</dl>\n"
      ],
      "text/latex": [
       "\\begin{description*}\n",
       "\\item[vector] 2\n",
       "\\item[vector] 3\n",
       "\\item[vector] 4\n",
       "\\item[vector] 5\n",
       "\\item[vector] 6\n",
       "\\item[vector] 7\n",
       "\\end{description*}\n"
      ],
      "text/markdown": [
       "vector\n",
       ":   2vector\n",
       ":   3vector\n",
       ":   4vector\n",
       ":   5vector\n",
       ":   6vector\n",
       ":   7\n",
       "\n"
      ],
      "text/plain": [
       "vector vector vector vector vector vector \n",
       "     2      3      4      5      6      7 "
      ]
     },
     "metadata": {},
     "output_type": "display_data"
    }
   ],
   "source": [
    "head(t4.unique_cluster_numbers)"
   ]
  },
  {
   "cell_type": "code",
   "execution_count": 174,
   "metadata": {},
   "outputs": [],
   "source": [
    "options(repr.plot.width=5, repr.plot.height=3)\n",
    "p.jaccardtraj = data.frame(x=rev(seq(2, 8)), jac=jaccard.mean) %>%\n",
    "  ggplot(data=.) +\n",
    "  geom_point(aes(x=x, y=jac), size=1) +\n",
    "  geom_line(aes(x=x, y=jac), size=0.3) +\n",
    "  theme_classic() + \n",
    "  xlab('Number of clusters') + \n",
    "  ylab('Mean Jaccard coefficient')"
   ]
  },
  {
   "cell_type": "code",
   "execution_count": 175,
   "metadata": {},
   "outputs": [
    {
     "data": {},
     "metadata": {},
     "output_type": "display_data"
    },
    {
     "data": {
      "image/png": "[encoded data removed]",
      "text/plain": [
       "plot without title"
      ]
     },
     "metadata": {},
     "output_type": "display_data"
    }
   ],
   "source": [
    "p.jaccardtraj"
   ]
  },
  {
   "cell_type": "code",
   "execution_count": 176,
   "metadata": {},
   "outputs": [],
   "source": [
    "ggsave(p.jaccardtraj, file='../../figures/jacc_traj.pdf', width=5, height=3)"
   ]
  },
  {
   "cell_type": "code",
   "execution_count": 158,
   "metadata": {},
   "outputs": [
    {
     "name": "stdout",
     "output_type": "stream",
     "text": [
      "[1] 8\n",
      "[1] \"Computing DE for t3...\"\n",
      "[1] \"Computing DE for t4...\"\n",
      "[1] 7\n",
      "[1] \"Computing DE for t3...\"\n",
      "[1] \"Computing DE for t4...\"\n",
      "[1] 6\n",
      "[1] \"Computing DE for t3...\"\n",
      "[1] \"Computing DE for t4...\"\n",
      "[1] 5\n",
      "[1] \"Computing DE for t3...\"\n",
      "[1] \"Computing DE for t4...\"\n",
      "[1] 4\n",
      "[1] \"Computing DE for t3...\"\n",
      "[1] \"Computing DE for t4...\"\n",
      "[1] 3\n",
      "[1] \"Computing DE for t3...\"\n",
      "[1] \"Computing DE for t4...\"\n",
      "[1] 2\n",
      "[1] \"Computing DE for t3...\"\n",
      "[1] \"Computing DE for t4...\"\n"
     ]
    }
   ],
   "source": [
    "jaccard.mean = c()\n",
    "jaccard.sd = c()\n",
    "for (k in rev(seq(2, 8))) {\n",
    "    print(k)\n",
    "    t3.labels = t3.tree[, which(t3.unique_cluster_numbers==k)]\n",
    "    t3.unique_labels = cbind(t3.labels, t3.desc)\n",
    "    t3.unique_labels %<>% data.frame %>% distinct()\n",
    "    colnames(t3.unique_labels) = c('id', 'desc')\n",
    "    t3.namemap.df = concatLabels(t3.unique_labels)\n",
    "    t3.namemap = hashmap(t3.namemap.df$id, t3.namemap.df$desc)\n",
    "    \n",
    "    t4.labels = t4.tree[, which(t4.unique_cluster_numbers==k)]\n",
    "    t4.unique_labels = cbind(t4.labels, t4.desc)\n",
    "    t4.unique_labels %<>% data.frame %>% distinct()\n",
    "    colnames(t4.unique_labels) = c('id', 'desc')\n",
    "    t4.namemap.df = concatLabels(t4.unique_labels)\n",
    "    t4.namemap = hashmap(t4.namemap.df$id, t4.namemap.df$desc)\n",
    "    print('Computing DE for t3...')\n",
    "    t3.DE = SimpleDE(t3.labels, t3.normalized)\n",
    "    t3.DE$gene = rownames(t3.DE)\n",
    "    t3.DE$node = sapply(t3.DE$id, function(x) t3.namemap[[as.numeric(x)]])\n",
    "    print('Computing DE for t4...')\n",
    "    t4.DE = SimpleDE(t4.labels, t4.normalized)\n",
    "    t4.DE$gene = rownames(t4.DE)\n",
    "    t4.DE$node = sapply(t4.DE$id, function(x) t4.namemap[[as.numeric(x)]])\n",
    "    \n",
    "    j <- get_jaccard(t3.DE, t4.DE)\n",
    "    jaccard.mean = c(jaccard.mean, mean(j$jc$j_indx))\n",
    "    jaccard.sd = c(jaccard.sd, sd(j$jc$j_indx))\n",
    "    p.jaccard = j$jc %>%\n",
    "     ggplot(data=., aes(node_exp1,node_exp2)) +\n",
    "     geom_tile(aes(fill=j_indx), colour=\"white\") +\n",
    "     scale_fill_gradient(low=\"white\", high=\"steelblue\", name='Jaccard') + xlab('3K T cell 10X dataset') + ylab('4K T cell 10X dataset') +\n",
    "     theme(axis.text.x = element_text(angle=90))\n",
    "    ggsave(p.jaccard, file=paste0('../../figures/jaccard_k_', k, '.pdf'), width=8, height=6)\n",
    "}\n"
   ]
  },
  {
   "cell_type": "code",
   "execution_count": 177,
   "metadata": {},
   "outputs": [
    {
     "data": {
      "text/html": [
       "<table>\n",
       "<thead><tr><th scope=col>id</th><th scope=col>desc</th></tr></thead>\n",
       "<tbody>\n",
       "\t<tr><td>1         </td><td>CD4.Icos.2</td></tr>\n",
       "\t<tr><td>1         </td><td>CD8.1     </td></tr>\n",
       "\t<tr><td>1         </td><td>CD4_Th1.2 </td></tr>\n",
       "\t<tr><td>1         </td><td>CD4.Tfh.1 </td></tr>\n",
       "\t<tr><td>2         </td><td>CD8.CTL.1 </td></tr>\n",
       "\t<tr><td>1         </td><td>CD8.2     </td></tr>\n",
       "</tbody>\n",
       "</table>\n"
      ],
      "text/latex": [
       "\\begin{tabular}{r|ll}\n",
       " id & desc\\\\\n",
       "\\hline\n",
       "\t 1          & CD4.Icos.2\\\\\n",
       "\t 1          & CD8.1     \\\\\n",
       "\t 1            & CD4\\_Th1.2 \\\\\n",
       "\t 1          & CD4.Tfh.1 \\\\\n",
       "\t 2          & CD8.CTL.1 \\\\\n",
       "\t 1          & CD8.2     \\\\\n",
       "\\end{tabular}\n"
      ],
      "text/markdown": [
       "\n",
       "id | desc | \n",
       "|---|---|---|---|---|---|\n",
       "| 1          | CD4.Icos.2 | \n",
       "| 1          | CD8.1      | \n",
       "| 1          | CD4_Th1.2  | \n",
       "| 1          | CD4.Tfh.1  | \n",
       "| 2          | CD8.CTL.1  | \n",
       "| 1          | CD8.2      | \n",
       "\n",
       "\n"
      ],
      "text/plain": [
       "  id desc      \n",
       "1 1  CD4.Icos.2\n",
       "2 1  CD8.1     \n",
       "3 1  CD4_Th1.2 \n",
       "4 1  CD4.Tfh.1 \n",
       "5 2  CD8.CTL.1 \n",
       "6 1  CD8.2     "
      ]
     },
     "metadata": {},
     "output_type": "display_data"
    }
   ],
   "source": [
    "head(t4.unique_labels)"
   ]
  },
  {
   "cell_type": "code",
   "execution_count": 132,
   "metadata": {},
   "outputs": [],
   "source": [
    "concatLabels = function(unique_labels) {\n",
    "    label.df = unique_labels %>%\n",
    "      group_by(id) %>%\n",
    "      mutate(n = seq(n())) %>%\n",
    "      spread(n, desc) %>%\n",
    "      unite(desc, colnames(.)[-1]) %>%\n",
    "      mutate(desc = sapply(desc, function(x) gsub('_NA', '', x)))\n",
    "      name.map = hashmap(unique_labels$id, unique_labels$desc)\n",
    "    return(label.df)\n",
    "}"
   ]
  },
  {
   "cell_type": "code",
   "execution_count": 144,
   "metadata": {},
   "outputs": [],
   "source": [
    "SimpleDE = function(bottom_id, normalized, q_thresh = 0.1, FC_thresh = 1.2) {\n",
    "    FC_genes_all = c()\n",
    "    bottom_unique_id = unique(bottom_id)\n",
    "    for (unique_id in bottom_unique_id) {\n",
    "        is_in_id = bottom_id == unique_id\n",
    "        design = model.matrix(~is_in_id)\n",
    "        my.lm = limma::lmFit(normalized, design=design)\n",
    "        my.lm = eBayes(my.lm)\n",
    "        FC_genes = topTable(my.lm, number=Inf, coef = seq(2,ncol(design)))\n",
    "        FC_genes = FC_genes[FC_genes$adj.P.Val < q_thresh, c('logFC', 'adj.P.Val')]\n",
    "        FC_genes = FC_genes[FC_genes$logFC > log(FC_thresh, base=2),]\n",
    "        FC_genes = FC_genes[order(FC_genes$logFC, decreasing=T),]\n",
    "        FC_genes$id = unique_id\n",
    "        FC_genes_all = rbind(FC_genes_all, FC_genes)\n",
    "    }\n",
    "    return(FC_genes_all)\n",
    "}"
   ]
  },
  {
   "cell_type": "code",
   "execution_count": 146,
   "metadata": {},
   "outputs": [
    {
     "data": {
      "text/html": [
       "<table>\n",
       "<thead><tr><th></th><th scope=col>logFC</th><th scope=col>adj.P.Val</th><th scope=col>id</th></tr></thead>\n",
       "<tbody>\n",
       "\t<tr><th scope=row>LMNA</th><td>1.2016525    </td><td>2.521711e-196</td><td>1            </td></tr>\n",
       "\t<tr><th scope=row>ANXA1</th><td>0.9444955    </td><td>5.399408e-101</td><td>1            </td></tr>\n",
       "\t<tr><th scope=row>NFKBIA</th><td>0.8105729    </td><td> 9.446349e-78</td><td>1            </td></tr>\n",
       "\t<tr><th scope=row>ZFP36</th><td>0.7470222    </td><td> 8.197972e-66</td><td>1            </td></tr>\n",
       "\t<tr><th scope=row>S100A4</th><td>0.7455921    </td><td> 2.521144e-53</td><td>1            </td></tr>\n",
       "\t<tr><th scope=row>RGCC</th><td>0.7445123    </td><td> 1.289132e-59</td><td>1            </td></tr>\n",
       "</tbody>\n",
       "</table>\n"
      ],
      "text/latex": [
       "\\begin{tabular}{r|lll}\n",
       "  & logFC & adj.P.Val & id\\\\\n",
       "\\hline\n",
       "\tLMNA & 1.2016525     & 2.521711e-196 & 1            \\\\\n",
       "\tANXA1 & 0.9444955     & 5.399408e-101 & 1            \\\\\n",
       "\tNFKBIA & 0.8105729     &  9.446349e-78 & 1            \\\\\n",
       "\tZFP36 & 0.7470222     &  8.197972e-66 & 1            \\\\\n",
       "\tS100A4 & 0.7455921     &  2.521144e-53 & 1            \\\\\n",
       "\tRGCC & 0.7445123     &  1.289132e-59 & 1            \\\\\n",
       "\\end{tabular}\n"
      ],
      "text/markdown": [
       "\n",
       "| <!--/--> | logFC | adj.P.Val | id | \n",
       "|---|---|---|---|---|---|\n",
       "| LMNA | 1.2016525     | 2.521711e-196 | 1             | \n",
       "| ANXA1 | 0.9444955     | 5.399408e-101 | 1             | \n",
       "| NFKBIA | 0.8105729     |  9.446349e-78 | 1             | \n",
       "| ZFP36 | 0.7470222     |  8.197972e-66 | 1             | \n",
       "| S100A4 | 0.7455921     |  2.521144e-53 | 1             | \n",
       "| RGCC | 0.7445123     |  1.289132e-59 | 1             | \n",
       "\n",
       "\n"
      ],
      "text/plain": [
       "       logFC     adj.P.Val     id\n",
       "LMNA   1.2016525 2.521711e-196 1 \n",
       "ANXA1  0.9444955 5.399408e-101 1 \n",
       "NFKBIA 0.8105729  9.446349e-78 1 \n",
       "ZFP36  0.7470222  8.197972e-66 1 \n",
       "S100A4 0.7455921  2.521144e-53 1 \n",
       "RGCC   0.7445123  1.289132e-59 1 "
      ]
     },
     "metadata": {},
     "output_type": "display_data"
    }
   ],
   "source": [
    "head(test)"
   ]
  },
  {
   "cell_type": "code",
   "execution_count": null,
   "metadata": {},
   "outputs": [],
   "source": []
  }
 ],
 "metadata": {
  "kernelspec": {
   "display_name": "R",
   "language": "R",
   "name": "ir"
  },
  "language_info": {
   "codemirror_mode": "r",
   "file_extension": ".r",
   "mimetype": "text/x-r-source",
   "name": "R",
   "pygments_lexer": "r",
   "version": "3.5.0"
  }
 },
 "nbformat": 4,
 "nbformat_minor": 2
}
