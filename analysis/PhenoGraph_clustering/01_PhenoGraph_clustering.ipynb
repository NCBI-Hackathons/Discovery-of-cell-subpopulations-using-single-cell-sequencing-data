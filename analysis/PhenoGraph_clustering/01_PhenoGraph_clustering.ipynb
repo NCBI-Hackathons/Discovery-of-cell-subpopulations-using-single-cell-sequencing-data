{
 "cells": [
  {
   "cell_type": "markdown",
   "metadata": {},
   "source": [
    "# Construct hierarchy from Seurat clustering for t3 dataset"
   ]
  },
  {
   "cell_type": "code",
   "execution_count": 131,
   "metadata": {},
   "outputs": [
    {
     "name": "stderr",
     "output_type": "stream",
     "text": [
      "Warning message:\n",
      "“package ‘limma’ was built under R version 3.5.1”"
     ]
    }
   ],
   "source": [
    "suppressMessages({\n",
    "    source('../../R/gene_signature.R')\n",
    "    library(tidyverse)\n",
    "})"
   ]
  },
  {
   "cell_type": "markdown",
   "metadata": {},
   "source": [
    "## load the dataset and tidy the dataset"
   ]
  },
  {
   "cell_type": "code",
   "execution_count": 3,
   "metadata": {},
   "outputs": [],
   "source": [
    "t3_scaled_matrix.path = \"../../data/scaledData/t3.scaledexpression.cutree.csv\"\n",
    "#t4_scaled_matrix.path = \"../../data/scaledData/t4.scaledexpression.cutree.csv\"\n",
    "t3_clusters.path = \"../../data/DESeq/t3.Seurat.cluster.csv\"\n",
    "#t4_clusters.path = \"../../data/DESeq/t4.Seurat.cluster.csv\""
   ]
  },
  {
   "cell_type": "code",
   "execution_count": 194,
   "metadata": {},
   "outputs": [],
   "source": [
    "t3_count_matrix.path = '../../data/DESeq/t_3k_genesymbol.csv'"
   ]
  },
  {
   "cell_type": "code",
   "execution_count": 9,
   "metadata": {},
   "outputs": [
    {
     "name": "stderr",
     "output_type": "stream",
     "text": [
      "Warning message:\n",
      "“Missing column names filled in: 'X1' [1]”"
     ]
    }
   ],
   "source": [
    "suppressMessages({\n",
    "    t3_clusters = read_csv(t3_clusters.path)\n",
    "})\n",
    "colnames(t3_clusters)[1] = 'cell'"
   ]
  },
  {
   "cell_type": "code",
   "execution_count": 10,
   "metadata": {},
   "outputs": [
    {
     "data": {
      "text/html": [
       "<table>\n",
       "<thead><tr><th scope=col>cell</th><th scope=col>nGene</th><th scope=col>nUMI</th><th scope=col>orig.ident</th><th scope=col>sample</th><th scope=col>percent.mito</th><th scope=col>percent.rpl</th><th scope=col>percent.rps</th><th scope=col>res.0.6</th><th scope=col>res.0.1</th><th scope=col>res.0.2</th><th scope=col>res.0.3</th><th scope=col>res.0.4</th><th scope=col>res.0.5</th><th scope=col>res.0.7</th><th scope=col>res.0.8</th><th scope=col>res.0.9</th><th scope=col>res.1</th></tr></thead>\n",
       "<tbody>\n",
       "\t<tr><td>AAACCTGGTAAATACG-1</td><td>1121              </td><td>4572              </td><td>t3                </td><td>t3                </td><td>0.04593176        </td><td>0.3027122         </td><td>0.2117235         </td><td>0                 </td><td>0                 </td><td>1                 </td><td>0                 </td><td>0                 </td><td>0                 </td><td>0                 </td><td>0                 </td><td>0                 </td><td>0                 </td></tr>\n",
       "\t<tr><td>AAACCTGGTGTGCCTG-1</td><td>1076              </td><td>3952              </td><td>t3                </td><td>t3                </td><td>0.03390688        </td><td>0.2887146         </td><td>0.2315283         </td><td>5                 </td><td>1                 </td><td>3                 </td><td>4                 </td><td>5                 </td><td>5                 </td><td>4                 </td><td>4                 </td><td>4                 </td><td>4                 </td></tr>\n",
       "</tbody>\n",
       "</table>\n"
      ],
      "text/latex": [
       "\\begin{tabular}{r|llllllllllllllllll}\n",
       " cell & nGene & nUMI & orig.ident & sample & percent.mito & percent.rpl & percent.rps & res.0.6 & res.0.1 & res.0.2 & res.0.3 & res.0.4 & res.0.5 & res.0.7 & res.0.8 & res.0.9 & res.1\\\\\n",
       "\\hline\n",
       "\t AAACCTGGTAAATACG-1 & 1121               & 4572               & t3                 & t3                 & 0.04593176         & 0.3027122          & 0.2117235          & 0                  & 0                  & 1                  & 0                  & 0                  & 0                  & 0                  & 0                  & 0                  & 0                 \\\\\n",
       "\t AAACCTGGTGTGCCTG-1 & 1076               & 3952               & t3                 & t3                 & 0.03390688         & 0.2887146          & 0.2315283          & 5                  & 1                  & 3                  & 4                  & 5                  & 5                  & 4                  & 4                  & 4                  & 4                 \\\\\n",
       "\\end{tabular}\n"
      ],
      "text/markdown": [
       "\n",
       "cell | nGene | nUMI | orig.ident | sample | percent.mito | percent.rpl | percent.rps | res.0.6 | res.0.1 | res.0.2 | res.0.3 | res.0.4 | res.0.5 | res.0.7 | res.0.8 | res.0.9 | res.1 | \n",
       "|---|---|\n",
       "| AAACCTGGTAAATACG-1 | 1121               | 4572               | t3                 | t3                 | 0.04593176         | 0.3027122          | 0.2117235          | 0                  | 0                  | 1                  | 0                  | 0                  | 0                  | 0                  | 0                  | 0                  | 0                  | \n",
       "| AAACCTGGTGTGCCTG-1 | 1076               | 3952               | t3                 | t3                 | 0.03390688         | 0.2887146          | 0.2315283          | 5                  | 1                  | 3                  | 4                  | 5                  | 5                  | 4                  | 4                  | 4                  | 4                  | \n",
       "\n",
       "\n"
      ],
      "text/plain": [
       "  cell               nGene nUMI orig.ident sample percent.mito percent.rpl\n",
       "1 AAACCTGGTAAATACG-1 1121  4572 t3         t3     0.04593176   0.3027122  \n",
       "2 AAACCTGGTGTGCCTG-1 1076  3952 t3         t3     0.03390688   0.2887146  \n",
       "  percent.rps res.0.6 res.0.1 res.0.2 res.0.3 res.0.4 res.0.5 res.0.7 res.0.8\n",
       "1 0.2117235   0       0       1       0       0       0       0       0      \n",
       "2 0.2315283   5       1       3       4       5       5       4       4      \n",
       "  res.0.9 res.1\n",
       "1 0       0    \n",
       "2 4       4    "
      ]
     },
     "metadata": {},
     "output_type": "display_data"
    }
   ],
   "source": [
    "head(t3_clusters, n=2)"
   ]
  },
  {
   "cell_type": "code",
   "execution_count": 22,
   "metadata": {},
   "outputs": [],
   "source": [
    "suppressMessages({\n",
    "    t3_scaled_matrix = read.table(t3_scaled_matrix.path, header=T, row.names = 1)\n",
    "})"
   ]
  },
  {
   "cell_type": "code",
   "execution_count": 28,
   "metadata": {},
   "outputs": [
    {
     "data": {
      "text/html": [
       "<table>\n",
       "<thead><tr><th></th><th scope=col>TSPAN6</th><th scope=col>TNMD</th><th scope=col>DPM1</th><th scope=col>SCYL3</th></tr></thead>\n",
       "<tbody>\n",
       "\t<tr><th scope=row>AAACCTGGTAAATACG-1</th><td>-0.06760678</td><td>0          </td><td>-0.401611  </td><td>-0.1581129 </td></tr>\n",
       "\t<tr><th scope=row>AAACCTGGTGTGCCTG-1</th><td>-0.06760678</td><td>0          </td><td>-0.401611  </td><td>-0.1581129 </td></tr>\n",
       "\t<tr><th scope=row>AAACCTGTCAGCTCTC-1</th><td>-0.06760678</td><td>0          </td><td>-0.401611  </td><td>-0.1581129 </td></tr>\n",
       "\t<tr><th scope=row>AAACGGGAGGGCTTGA-1</th><td>-0.06760678</td><td>0          </td><td> 2.363806  </td><td>-0.1581129 </td></tr>\n",
       "</tbody>\n",
       "</table>\n"
      ],
      "text/latex": [
       "\\begin{tabular}{r|llll}\n",
       "  & TSPAN6 & TNMD & DPM1 & SCYL3\\\\\n",
       "\\hline\n",
       "\tAAACCTGGTAAATACG-1 & -0.06760678 & 0           & -0.401611   & -0.1581129 \\\\\n",
       "\tAAACCTGGTGTGCCTG-1 & -0.06760678 & 0           & -0.401611   & -0.1581129 \\\\\n",
       "\tAAACCTGTCAGCTCTC-1 & -0.06760678 & 0           & -0.401611   & -0.1581129 \\\\\n",
       "\tAAACGGGAGGGCTTGA-1 & -0.06760678 & 0           &  2.363806   & -0.1581129 \\\\\n",
       "\\end{tabular}\n"
      ],
      "text/markdown": [
       "\n",
       "| <!--/--> | TSPAN6 | TNMD | DPM1 | SCYL3 | \n",
       "|---|---|---|---|\n",
       "| AAACCTGGTAAATACG-1 | -0.06760678 | 0           | -0.401611   | -0.1581129  | \n",
       "| AAACCTGGTGTGCCTG-1 | -0.06760678 | 0           | -0.401611   | -0.1581129  | \n",
       "| AAACCTGTCAGCTCTC-1 | -0.06760678 | 0           | -0.401611   | -0.1581129  | \n",
       "| AAACGGGAGGGCTTGA-1 | -0.06760678 | 0           |  2.363806   | -0.1581129  | \n",
       "\n",
       "\n"
      ],
      "text/plain": [
       "                   TSPAN6      TNMD DPM1      SCYL3     \n",
       "AAACCTGGTAAATACG-1 -0.06760678 0    -0.401611 -0.1581129\n",
       "AAACCTGGTGTGCCTG-1 -0.06760678 0    -0.401611 -0.1581129\n",
       "AAACCTGTCAGCTCTC-1 -0.06760678 0    -0.401611 -0.1581129\n",
       "AAACGGGAGGGCTTGA-1 -0.06760678 0     2.363806 -0.1581129"
      ]
     },
     "metadata": {},
     "output_type": "display_data"
    }
   ],
   "source": [
    "head(t3_scaled_matrix_cleaned[1:4, 1:4])"
   ]
  },
  {
   "cell_type": "code",
   "execution_count": 24,
   "metadata": {},
   "outputs": [],
   "source": [
    "t3_scaled_matrix_cleaned = t3_scaled_matrix[, -(ncol(t3_scaled_matrix) - (0:3))]"
   ]
  },
  {
   "cell_type": "code",
   "execution_count": 27,
   "metadata": {},
   "outputs": [],
   "source": [
    "rownames(t3_scaled_matrix_cleaned) = gsub('\\\\.', '-', rownames(t3_scaled_matrix_cleaned))"
   ]
  },
  {
   "cell_type": "code",
   "execution_count": 195,
   "metadata": {},
   "outputs": [],
   "source": [
    "t3_count_matrix = read.table(t3_count_matrix.path, header=1, row.names=1)"
   ]
  },
  {
   "cell_type": "code",
   "execution_count": 198,
   "metadata": {},
   "outputs": [],
   "source": [
    "t3_count_matrix_cleaned = t3_count_matrix"
   ]
  },
  {
   "cell_type": "code",
   "execution_count": 200,
   "metadata": {},
   "outputs": [],
   "source": [
    "colnames(t3_count_matrix_cleaned) = gsub('\\\\.', '-', colnames(t3_count_matrix_cleaned))"
   ]
  },
  {
   "cell_type": "code",
   "execution_count": 202,
   "metadata": {},
   "outputs": [],
   "source": [
    "t3_count_matrix_cleaned = t(t3_count_matrix_cleaned)"
   ]
  },
  {
   "cell_type": "markdown",
   "metadata": {},
   "source": [
    "## Compute the average per gene within each cluster"
   ]
  },
  {
   "cell_type": "code",
   "execution_count": 34,
   "metadata": {},
   "outputs": [],
   "source": [
    "membership = select(t3_clusters, cell, res.0.6)\n",
    "colnames(membership) = c('cell', 'membership')\n",
    "cluster_numbers = unique(membership$membership)"
   ]
  },
  {
   "cell_type": "code",
   "execution_count": 40,
   "metadata": {},
   "outputs": [
    {
     "data": {
      "text/html": [
       "<ol class=list-inline>\n",
       "\t<li>0</li>\n",
       "\t<li>5</li>\n",
       "\t<li>3</li>\n",
       "\t<li>1</li>\n",
       "\t<li>2</li>\n",
       "\t<li>4</li>\n",
       "</ol>\n"
      ],
      "text/latex": [
       "\\begin{enumerate*}\n",
       "\\item 0\n",
       "\\item 5\n",
       "\\item 3\n",
       "\\item 1\n",
       "\\item 2\n",
       "\\item 4\n",
       "\\end{enumerate*}\n"
      ],
      "text/markdown": [
       "1. 0\n",
       "2. 5\n",
       "3. 3\n",
       "4. 1\n",
       "5. 2\n",
       "6. 4\n",
       "\n",
       "\n"
      ],
      "text/plain": [
       "[1] 0 5 3 1 2 4"
      ]
     },
     "metadata": {},
     "output_type": "display_data"
    }
   ],
   "source": [
    "cluster_numbers"
   ]
  },
  {
   "cell_type": "code",
   "execution_count": 45,
   "metadata": {},
   "outputs": [],
   "source": [
    "clusters_average = c()\n",
    "for (cluster in cluster_numbers) {\n",
    "    cells_id_in_cluster = membership %>%\n",
    "      filter(membership == cluster) %>%\n",
    "      select(cell) %>% unlist\n",
    "    #print(cells_id_in_cluster[1:2])\n",
    "    #print(head(cells_id_in_cluster))\n",
    "    cluster_scaled_matrix = t3_scaled_matrix_cleaned[cells_id_in_cluster,]\n",
    "    #print(cluster_scaled_matrix[1:5, 1:5])\n",
    "    cluster_average = apply(cluster_scaled_matrix, 2, mean)\n",
    "    clusters_average = rbind(clusters_average, cluster_average)\n",
    "}"
   ]
  },
  {
   "cell_type": "code",
   "execution_count": 46,
   "metadata": {},
   "outputs": [],
   "source": [
    "rownames(clusters_average) = cluster_numbers"
   ]
  },
  {
   "cell_type": "code",
   "execution_count": 47,
   "metadata": {},
   "outputs": [
    {
     "data": {
      "text/html": [
       "<table>\n",
       "<thead><tr><th></th><th scope=col>TSPAN6</th><th scope=col>TNMD</th><th scope=col>DPM1</th><th scope=col>SCYL3</th><th scope=col>C1orf112</th><th scope=col>FGR</th><th scope=col>CFH</th><th scope=col>FUCA2</th><th scope=col>GCLC</th><th scope=col>NFYA</th></tr></thead>\n",
       "<tbody>\n",
       "\t<tr><th scope=row>0</th><td>-0.01591175 </td><td>0           </td><td> 0.019528824</td><td>-0.07315309 </td><td>-0.026116968</td><td>-0.1110114  </td><td> 0.11168856 </td><td> 0.05220702 </td><td>-0.069012834</td><td>-0.038871280</td></tr>\n",
       "\t<tr><th scope=row>5</th><td>-0.04328889 </td><td>0           </td><td>-0.032824422</td><td> 0.03327807 </td><td>-0.014822901</td><td>-0.1427894  </td><td>-0.10321316 </td><td>-0.08197279 </td><td> 0.066457080</td><td>-0.001641080</td></tr>\n",
       "\t<tr><th scope=row>3</th><td> 0.05442482 </td><td>0           </td><td> 0.002287752</td><td>-0.04244132 </td><td> 0.030626133</td><td>-0.1427894  </td><td>-0.10321316 </td><td>-0.04664824 </td><td>-0.027996835</td><td> 0.005598681</td></tr>\n",
       "\t<tr><th scope=row>1</th><td>-0.02791845 </td><td>0           </td><td> 0.024424651</td><td> 0.03417914 </td><td>-0.021643090</td><td>-0.1427894  </td><td>-0.09283028 </td><td>-0.08021705 </td><td>-0.019302261</td><td> 0.073000832</td></tr>\n",
       "\t<tr><th scope=row>2</th><td>-0.04828316 </td><td>0           </td><td>-0.065903213</td><td> 0.08686592 </td><td>-0.014316430</td><td>-0.1098433  </td><td> 0.04194908 </td><td> 0.06096715 </td><td> 0.007752411</td><td>-0.034987134</td></tr>\n",
       "\t<tr><th scope=row>4</th><td>-0.04718567 </td><td>0           </td><td> 0.026353619</td><td>-0.01429997 </td><td>-0.006074518</td><td> 0.7728175  </td><td> 0.07822808 </td><td> 0.08874942 </td><td> 0.099232654</td><td>-0.018532554</td></tr>\n",
       "</tbody>\n",
       "</table>\n"
      ],
      "text/latex": [
       "\\begin{tabular}{r|llllllllll}\n",
       "  & TSPAN6 & TNMD & DPM1 & SCYL3 & C1orf112 & FGR & CFH & FUCA2 & GCLC & NFYA\\\\\n",
       "\\hline\n",
       "\t0 & -0.01591175  & 0            &  0.019528824 & -0.07315309  & -0.026116968 & -0.1110114   &  0.11168856  &  0.05220702  & -0.069012834 & -0.038871280\\\\\n",
       "\t5 & -0.04328889  & 0            & -0.032824422 &  0.03327807  & -0.014822901 & -0.1427894   & -0.10321316  & -0.08197279  &  0.066457080 & -0.001641080\\\\\n",
       "\t3 &  0.05442482  & 0            &  0.002287752 & -0.04244132  &  0.030626133 & -0.1427894   & -0.10321316  & -0.04664824  & -0.027996835 &  0.005598681\\\\\n",
       "\t1 & -0.02791845  & 0            &  0.024424651 &  0.03417914  & -0.021643090 & -0.1427894   & -0.09283028  & -0.08021705  & -0.019302261 &  0.073000832\\\\\n",
       "\t2 & -0.04828316  & 0            & -0.065903213 &  0.08686592  & -0.014316430 & -0.1098433   &  0.04194908  &  0.06096715  &  0.007752411 & -0.034987134\\\\\n",
       "\t4 & -0.04718567  & 0            &  0.026353619 & -0.01429997  & -0.006074518 &  0.7728175   &  0.07822808  &  0.08874942  &  0.099232654 & -0.018532554\\\\\n",
       "\\end{tabular}\n"
      ],
      "text/markdown": [
       "\n",
       "| <!--/--> | TSPAN6 | TNMD | DPM1 | SCYL3 | C1orf112 | FGR | CFH | FUCA2 | GCLC | NFYA | \n",
       "|---|---|---|---|---|---|\n",
       "| 0 | -0.01591175  | 0            |  0.019528824 | -0.07315309  | -0.026116968 | -0.1110114   |  0.11168856  |  0.05220702  | -0.069012834 | -0.038871280 | \n",
       "| 5 | -0.04328889  | 0            | -0.032824422 |  0.03327807  | -0.014822901 | -0.1427894   | -0.10321316  | -0.08197279  |  0.066457080 | -0.001641080 | \n",
       "| 3 |  0.05442482  | 0            |  0.002287752 | -0.04244132  |  0.030626133 | -0.1427894   | -0.10321316  | -0.04664824  | -0.027996835 |  0.005598681 | \n",
       "| 1 | -0.02791845  | 0            |  0.024424651 |  0.03417914  | -0.021643090 | -0.1427894   | -0.09283028  | -0.08021705  | -0.019302261 |  0.073000832 | \n",
       "| 2 | -0.04828316  | 0            | -0.065903213 |  0.08686592  | -0.014316430 | -0.1098433   |  0.04194908  |  0.06096715  |  0.007752411 | -0.034987134 | \n",
       "| 4 | -0.04718567  | 0            |  0.026353619 | -0.01429997  | -0.006074518 |  0.7728175   |  0.07822808  |  0.08874942  |  0.099232654 | -0.018532554 | \n",
       "\n",
       "\n"
      ],
      "text/plain": [
       "  TSPAN6      TNMD DPM1         SCYL3       C1orf112     FGR        CFH        \n",
       "0 -0.01591175 0     0.019528824 -0.07315309 -0.026116968 -0.1110114  0.11168856\n",
       "5 -0.04328889 0    -0.032824422  0.03327807 -0.014822901 -0.1427894 -0.10321316\n",
       "3  0.05442482 0     0.002287752 -0.04244132  0.030626133 -0.1427894 -0.10321316\n",
       "1 -0.02791845 0     0.024424651  0.03417914 -0.021643090 -0.1427894 -0.09283028\n",
       "2 -0.04828316 0    -0.065903213  0.08686592 -0.014316430 -0.1098433  0.04194908\n",
       "4 -0.04718567 0     0.026353619 -0.01429997 -0.006074518  0.7728175  0.07822808\n",
       "  FUCA2       GCLC         NFYA        \n",
       "0  0.05220702 -0.069012834 -0.038871280\n",
       "5 -0.08197279  0.066457080 -0.001641080\n",
       "3 -0.04664824 -0.027996835  0.005598681\n",
       "1 -0.08021705 -0.019302261  0.073000832\n",
       "2  0.06096715  0.007752411 -0.034987134\n",
       "4  0.08874942  0.099232654 -0.018532554"
      ]
     },
     "metadata": {},
     "output_type": "display_data"
    }
   ],
   "source": [
    "clusters_average[,1:10] # cluster-wise gene average"
   ]
  },
  {
   "cell_type": "markdown",
   "metadata": {},
   "source": [
    "## Create the hclust on the cluster average"
   ]
  },
  {
   "cell_type": "code",
   "execution_count": 49,
   "metadata": {},
   "outputs": [],
   "source": [
    "dist_clusters = dist(clusters_average)"
   ]
  },
  {
   "cell_type": "code",
   "execution_count": 57,
   "metadata": {},
   "outputs": [],
   "source": [
    "hclust_obj = hclust(dist_clusters, method='ward.D2')"
   ]
  },
  {
   "cell_type": "code",
   "execution_count": 80,
   "metadata": {},
   "outputs": [
    {
     "data": {
      "image/png": "[encoded data removed]",
      "text/plain": [
       "plot without title"
      ]
     },
     "metadata": {},
     "output_type": "display_data"
    }
   ],
   "source": [
    "options(repr.plot.width = 5, repr.plot.height = 3)\n",
    "par(oma=c(0,0,0,0),mar=c(1,0,1,0))\n",
    "plot(as.dendrogram(hclust_obj), type = \"triangle\", ylab = \"Distance\", axes=F)"
   ]
  },
  {
   "cell_type": "code",
   "execution_count": 82,
   "metadata": {},
   "outputs": [
    {
     "data": {
      "text/html": [
       "<strong>pdf:</strong> 2"
      ],
      "text/latex": [
       "\\textbf{pdf:} 2"
      ],
      "text/markdown": [
       "**pdf:** 2"
      ],
      "text/plain": [
       "pdf \n",
       "  2 "
      ]
     },
     "metadata": {},
     "output_type": "display_data"
    }
   ],
   "source": [
    "pdf('../../figures/dendrogram_seurat_res_0_6.pdf', width=5, height=3)\n",
    "par(oma=c(0,0,0,0),mar=c(1,1,1,1))\n",
    "plot(as.dendrogram(hclust_obj), type = \"triangle\", ylab = \"Distance\", axes=F)\n",
    "dev.off()"
   ]
  },
  {
   "cell_type": "markdown",
   "metadata": {},
   "source": [
    "## Create the hierarchy matrix to be used in running the differentially expressed genes "
   ]
  },
  {
   "cell_type": "code",
   "execution_count": 96,
   "metadata": {},
   "outputs": [],
   "source": [
    "K = seq(2, length(cluster_numbers))"
   ]
  },
  {
   "cell_type": "code",
   "execution_count": 99,
   "metadata": {},
   "outputs": [],
   "source": [
    "memberships = c()\n",
    "for (k in K) {\n",
    "    membership_k = cutree(hclust_obj, k=k)\n",
    "    names(membership_k) = NULL\n",
    "    #print(k)\n",
    "    #print(membership_k)\n",
    "    memberships = cbind(memberships, membership_k)\n",
    "}"
   ]
  },
  {
   "cell_type": "code",
   "execution_count": 102,
   "metadata": {},
   "outputs": [],
   "source": [
    "rownames(memberships) = cluster_numbers\n",
    "colnames(memberships) = K"
   ]
  },
  {
   "cell_type": "code",
   "execution_count": 103,
   "metadata": {},
   "outputs": [
    {
     "data": {
      "text/html": [
       "<table>\n",
       "<thead><tr><th></th><th scope=col>2</th><th scope=col>3</th><th scope=col>4</th><th scope=col>5</th><th scope=col>6</th></tr></thead>\n",
       "<tbody>\n",
       "\t<tr><th scope=row>0</th><td>1</td><td>1</td><td>1</td><td>1</td><td>1</td></tr>\n",
       "\t<tr><th scope=row>5</th><td>1</td><td>2</td><td>2</td><td>2</td><td>2</td></tr>\n",
       "\t<tr><th scope=row>3</th><td>1</td><td>2</td><td>3</td><td>3</td><td>3</td></tr>\n",
       "\t<tr><th scope=row>1</th><td>1</td><td>2</td><td>3</td><td>3</td><td>4</td></tr>\n",
       "\t<tr><th scope=row>2</th><td>1</td><td>1</td><td>1</td><td>4</td><td>5</td></tr>\n",
       "\t<tr><th scope=row>4</th><td>2</td><td>3</td><td>4</td><td>5</td><td>6</td></tr>\n",
       "</tbody>\n",
       "</table>\n"
      ],
      "text/latex": [
       "\\begin{tabular}{r|lllll}\n",
       "  & 2 & 3 & 4 & 5 & 6\\\\\n",
       "\\hline\n",
       "\t0 & 1 & 1 & 1 & 1 & 1\\\\\n",
       "\t5 & 1 & 2 & 2 & 2 & 2\\\\\n",
       "\t3 & 1 & 2 & 3 & 3 & 3\\\\\n",
       "\t1 & 1 & 2 & 3 & 3 & 4\\\\\n",
       "\t2 & 1 & 1 & 1 & 4 & 5\\\\\n",
       "\t4 & 2 & 3 & 4 & 5 & 6\\\\\n",
       "\\end{tabular}\n"
      ],
      "text/markdown": [
       "\n",
       "| <!--/--> | 2 | 3 | 4 | 5 | 6 | \n",
       "|---|---|---|---|---|---|\n",
       "| 0 | 1 | 1 | 1 | 1 | 1 | \n",
       "| 5 | 1 | 2 | 2 | 2 | 2 | \n",
       "| 3 | 1 | 2 | 3 | 3 | 3 | \n",
       "| 1 | 1 | 2 | 3 | 3 | 4 | \n",
       "| 2 | 1 | 1 | 1 | 4 | 5 | \n",
       "| 4 | 2 | 3 | 4 | 5 | 6 | \n",
       "\n",
       "\n"
      ],
      "text/plain": [
       "  2 3 4 5 6\n",
       "0 1 1 1 1 1\n",
       "5 1 2 2 2 2\n",
       "3 1 2 3 3 3\n",
       "1 1 2 3 3 4\n",
       "2 1 1 1 4 5\n",
       "4 2 3 4 5 6"
      ]
     },
     "metadata": {},
     "output_type": "display_data"
    }
   ],
   "source": [
    "memberships # each row represent a cluster and each column represent a cut that produces the given number of clusters"
   ]
  },
  {
   "cell_type": "markdown",
   "metadata": {},
   "source": [
    "## Expand the hierarchy matrix for the cells"
   ]
  },
  {
   "cell_type": "markdown",
   "metadata": {},
   "source": [
    "- For each cell (row names) in the original expression matrix (`t3_scaled_matrix_cleaned`), \n",
    "  - find which cluster they belong to from the cluster identity matrix (`membership`)\n",
    "  - append the corresponding rows from `membership` to create the ancestor matrix for all cells\n",
    "- save the cell ancestor matrix as a csv."
   ]
  },
  {
   "cell_type": "code",
   "execution_count": 104,
   "metadata": {},
   "outputs": [],
   "source": [
    "cells_id = rownames(t3_scaled_matrix_cleaned)"
   ]
  },
  {
   "cell_type": "code",
   "execution_count": 128,
   "metadata": {},
   "outputs": [],
   "source": [
    "cell_ancestor_matrix = c()\n",
    "cell_memberships = c()\n",
    "for (cell in cells_id) {\n",
    "    #print(cell)\n",
    "    cell_membership = membership[membership[,1] == cell, 2] %>% as.character\n",
    "    cell_memberships = c(cell_memberships, cell_membership)\n",
    "    #print(cell_membership)\n",
    "    cell_ancestor_matrix = rbind(cell_ancestor_matrix, memberships[cell_membership,])\n",
    "}\n",
    "#print(cell_ancestor_matrix)\n",
    "rownames(cell_ancestor_matrix) = cells_id"
   ]
  },
  {
   "cell_type": "code",
   "execution_count": 129,
   "metadata": {},
   "outputs": [
    {
     "data": {
      "text/html": [
       "<table>\n",
       "<thead><tr><th></th><th scope=col>2</th><th scope=col>3</th><th scope=col>4</th><th scope=col>5</th><th scope=col>6</th></tr></thead>\n",
       "<tbody>\n",
       "\t<tr><th scope=row>AAACCTGGTAAATACG-1</th><td>1</td><td>1</td><td>1</td><td>1</td><td>1</td></tr>\n",
       "\t<tr><th scope=row>AAACCTGGTGTGCCTG-1</th><td>1</td><td>2</td><td>2</td><td>2</td><td>2</td></tr>\n",
       "\t<tr><th scope=row>AAACCTGTCAGCTCTC-1</th><td>1</td><td>2</td><td>3</td><td>3</td><td>3</td></tr>\n",
       "\t<tr><th scope=row>AAACGGGAGGGCTTGA-1</th><td>1</td><td>2</td><td>3</td><td>3</td><td>4</td></tr>\n",
       "\t<tr><th scope=row>AAACGGGAGTATCGAA-1</th><td>1</td><td>2</td><td>3</td><td>3</td><td>4</td></tr>\n",
       "</tbody>\n",
       "</table>\n"
      ],
      "text/latex": [
       "\\begin{tabular}{r|lllll}\n",
       "  & 2 & 3 & 4 & 5 & 6\\\\\n",
       "\\hline\n",
       "\tAAACCTGGTAAATACG-1 & 1 & 1 & 1 & 1 & 1\\\\\n",
       "\tAAACCTGGTGTGCCTG-1 & 1 & 2 & 2 & 2 & 2\\\\\n",
       "\tAAACCTGTCAGCTCTC-1 & 1 & 2 & 3 & 3 & 3\\\\\n",
       "\tAAACGGGAGGGCTTGA-1 & 1 & 2 & 3 & 3 & 4\\\\\n",
       "\tAAACGGGAGTATCGAA-1 & 1 & 2 & 3 & 3 & 4\\\\\n",
       "\\end{tabular}\n"
      ],
      "text/markdown": [
       "\n",
       "| <!--/--> | 2 | 3 | 4 | 5 | 6 | \n",
       "|---|---|---|---|---|\n",
       "| AAACCTGGTAAATACG-1 | 1 | 1 | 1 | 1 | 1 | \n",
       "| AAACCTGGTGTGCCTG-1 | 1 | 2 | 2 | 2 | 2 | \n",
       "| AAACCTGTCAGCTCTC-1 | 1 | 2 | 3 | 3 | 3 | \n",
       "| AAACGGGAGGGCTTGA-1 | 1 | 2 | 3 | 3 | 4 | \n",
       "| AAACGGGAGTATCGAA-1 | 1 | 2 | 3 | 3 | 4 | \n",
       "\n",
       "\n"
      ],
      "text/plain": [
       "                   2 3 4 5 6\n",
       "AAACCTGGTAAATACG-1 1 1 1 1 1\n",
       "AAACCTGGTGTGCCTG-1 1 2 2 2 2\n",
       "AAACCTGTCAGCTCTC-1 1 2 3 3 3\n",
       "AAACGGGAGGGCTTGA-1 1 2 3 3 4\n",
       "AAACGGGAGTATCGAA-1 1 2 3 3 4"
      ]
     },
     "metadata": {},
     "output_type": "display_data"
    }
   ],
   "source": [
    "cell_ancestor_matrix[1:5, 1:5]"
   ]
  },
  {
   "cell_type": "code",
   "execution_count": 130,
   "metadata": {},
   "outputs": [],
   "source": [
    "write.csv(cell_ancestor_matrix, file='../../data/treeHierarchy/cell_ancestor_matrix.csv')"
   ]
  },
  {
   "cell_type": "markdown",
   "metadata": {},
   "source": [
    "## Run the differentially expressed genes by traversing each level"
   ]
  },
  {
   "cell_type": "markdown",
   "metadata": {},
   "source": [
    "goal: return a data frame that defines the DE for clusters (cluster_df)\n",
    "- For each level of the hierarchy (where there will be exactly one cut occuring), find out the subset where the cut occurs\n",
    "  - subset the set of split where it occurs\n",
    "  - compute the DE for each node and get the genes\n",
    "  - define the cluster_id and genes as a data frame\n",
    "  - write the information into the `cluster_DE`"
   ]
  },
  {
   "cell_type": "code",
   "execution_count": 172,
   "metadata": {},
   "outputs": [],
   "source": [
    "q_thresh = 0.2\n",
    "FC_thresh = 1.0"
   ]
  },
  {
   "cell_type": "code",
   "execution_count": 158,
   "metadata": {},
   "outputs": [
    {
     "data": {
      "text/html": [
       "<table>\n",
       "<thead><tr><th></th><th scope=col>TSPAN6</th><th scope=col>TNMD</th><th scope=col>DPM1</th><th scope=col>SCYL3</th><th scope=col>C1orf112</th></tr></thead>\n",
       "<tbody>\n",
       "\t<tr><th scope=row>AAACCTGGTAAATACG-1</th><td>-0.06760678</td><td>0          </td><td>-0.401611  </td><td>-0.1581129 </td><td>-0.0879238 </td></tr>\n",
       "\t<tr><th scope=row>AAACCTGGTGTGCCTG-1</th><td>-0.06760678</td><td>0          </td><td>-0.401611  </td><td>-0.1581129 </td><td>-0.0879238 </td></tr>\n",
       "\t<tr><th scope=row>AAACCTGTCAGCTCTC-1</th><td>-0.06760678</td><td>0          </td><td>-0.401611  </td><td>-0.1581129 </td><td>-0.0879238 </td></tr>\n",
       "\t<tr><th scope=row>AAACGGGAGGGCTTGA-1</th><td>-0.06760678</td><td>0          </td><td> 2.363806  </td><td>-0.1581129 </td><td>-0.0879238 </td></tr>\n",
       "</tbody>\n",
       "</table>\n"
      ],
      "text/latex": [
       "\\begin{tabular}{r|lllll}\n",
       "  & TSPAN6 & TNMD & DPM1 & SCYL3 & C1orf112\\\\\n",
       "\\hline\n",
       "\tAAACCTGGTAAATACG-1 & -0.06760678 & 0           & -0.401611   & -0.1581129  & -0.0879238 \\\\\n",
       "\tAAACCTGGTGTGCCTG-1 & -0.06760678 & 0           & -0.401611   & -0.1581129  & -0.0879238 \\\\\n",
       "\tAAACCTGTCAGCTCTC-1 & -0.06760678 & 0           & -0.401611   & -0.1581129  & -0.0879238 \\\\\n",
       "\tAAACGGGAGGGCTTGA-1 & -0.06760678 & 0           &  2.363806   & -0.1581129  & -0.0879238 \\\\\n",
       "\\end{tabular}\n"
      ],
      "text/markdown": [
       "\n",
       "| <!--/--> | TSPAN6 | TNMD | DPM1 | SCYL3 | C1orf112 | \n",
       "|---|---|---|---|\n",
       "| AAACCTGGTAAATACG-1 | -0.06760678 | 0           | -0.401611   | -0.1581129  | -0.0879238  | \n",
       "| AAACCTGGTGTGCCTG-1 | -0.06760678 | 0           | -0.401611   | -0.1581129  | -0.0879238  | \n",
       "| AAACCTGTCAGCTCTC-1 | -0.06760678 | 0           | -0.401611   | -0.1581129  | -0.0879238  | \n",
       "| AAACGGGAGGGCTTGA-1 | -0.06760678 | 0           |  2.363806   | -0.1581129  | -0.0879238  | \n",
       "\n",
       "\n"
      ],
      "text/plain": [
       "                   TSPAN6      TNMD DPM1      SCYL3      C1orf112  \n",
       "AAACCTGGTAAATACG-1 -0.06760678 0    -0.401611 -0.1581129 -0.0879238\n",
       "AAACCTGGTGTGCCTG-1 -0.06760678 0    -0.401611 -0.1581129 -0.0879238\n",
       "AAACCTGTCAGCTCTC-1 -0.06760678 0    -0.401611 -0.1581129 -0.0879238\n",
       "AAACGGGAGGGCTTGA-1 -0.06760678 0     2.363806 -0.1581129 -0.0879238"
      ]
     },
     "metadata": {},
     "output_type": "display_data"
    }
   ],
   "source": [
    "head(expression[1:4, 1:5])"
   ]
  },
  {
   "cell_type": "code",
   "execution_count": 173,
   "metadata": {},
   "outputs": [
    {
     "name": "stdout",
     "output_type": "stream",
     "text": [
      "[1] 1\n"
     ]
    },
    {
     "name": "stderr",
     "output_type": "stream",
     "text": [
      "Warning message:\n",
      "“Zero sample variances detected, have been offset away from zero”"
     ]
    },
    {
     "name": "stdout",
     "output_type": "stream",
     "text": [
      "[1] \"1 35\"\n"
     ]
    },
    {
     "name": "stderr",
     "output_type": "stream",
     "text": [
      "Warning message:\n",
      "“Zero sample variances detected, have been offset away from zero”"
     ]
    },
    {
     "name": "stdout",
     "output_type": "stream",
     "text": [
      "[1] \"2 13\"\n",
      "[1] 2\n"
     ]
    },
    {
     "name": "stderr",
     "output_type": "stream",
     "text": [
      "Warning message:\n",
      "“Zero sample variances detected, have been offset away from zero”"
     ]
    },
    {
     "name": "stdout",
     "output_type": "stream",
     "text": [
      "[1] \"1_1 0\"\n"
     ]
    },
    {
     "name": "stderr",
     "output_type": "stream",
     "text": [
      "Warning message:\n",
      "“Zero sample variances detected, have been offset away from zero”"
     ]
    },
    {
     "name": "stdout",
     "output_type": "stream",
     "text": [
      "[1] \"1_2 0\"\n"
     ]
    }
   ],
   "source": [
    "cluster_DE = c()\n",
    "for (k in seq(ncol(cell_ancestor_matrix))[1:2]) {\n",
    "   print(k)\n",
    "   if (k == 1) {\n",
    "       unique_clusters = unique(cell_ancestor_matrix[,k])\n",
    "       expression = t3_scaled_matrix_cleaned\n",
    "       for (unique_cluster in unique_clusters) {\n",
    "           unique_cluster_membership = (cell_ancestor_matrix[,k] == unique_cluster)\n",
    "           over = OverExpressedGenes(unique_cluster_membership, t(expression), q_thresh, FC_thresh)\n",
    "           subtree_id = paste(data.matrix(cell_ancestor_matrix[which(unique_cluster_membership)[1], seq(k)]), collapse='_')\n",
    "           print(paste(subtree_id, length(over)))\n",
    "           if (length(over) > 0) {\n",
    "               cluster_DE = rbind(cluster_DE, data.frame(id = subtree_id, gene=over))\n",
    "           } else {\n",
    "               cluster_DE = rbind(cluster_DE, data.frame(id = subtree_id, gene=NA))\n",
    "           }\n",
    "       }\n",
    "   } else {\n",
    "       # find where the split occurs\n",
    "    summary_matrix = table(cell_ancestor_matrix[,k-1], cell_ancestor_matrix[,k])\n",
    "    parent_split_idx = apply(summary_matrix, 1, function(x) sum(x > 0) == 2)\n",
    "    parent_split = names(parent_split_idx)[parent_split_idx]            \n",
    "    # subset for the part expression matrix of the expression matrix at level k - 1 where it\n",
    "    subset_idx = cell_ancestor_matrix[,k-1] == parent_split\n",
    "    expression = t3_scaled_matrix_cleaned[subset_idx, ]\n",
    "    cell_ancestor_matrix_subset = cell_ancestor_matrix[subset_idx,]\n",
    "    unique_clusters = unique(cell_ancestor_matrix_subset[,k])\n",
    "    for (unique_cluster in unique_clusters) {\n",
    "           unique_cluster_membership = (cell_ancestor_matrix_subset[,k] == unique_cluster)\n",
    "           over = OverExpressedGenes(unique_cluster_membership, t(expression), q_thresh, FC_thresh)\n",
    "           subtree_id = paste(data.matrix(cell_ancestor_matrix_subset[which(unique_cluster_membership)[1], seq(k)]), collapse='_')\n",
    "           print(paste(subtree_id, length(over)))\n",
    "            if (length(over) > 0) {\n",
    "               cluster_DE = rbind(cluster_DE, data.frame(id = subtree_id, gene=over))\n",
    "           } else {\n",
    "               cluster_DE = rbind(cluster_DE, data.frame(id = subtree_id, gene=NA))\n",
    "           }\n",
    "       }\n",
    "   }\n",
    "}"
   ]
  },
  {
   "cell_type": "code",
   "execution_count": 176,
   "metadata": {},
   "outputs": [
    {
     "data": {
      "text/plain": [
       "   id             gene   \n",
       " 1  :35   AC005838.2: 1  \n",
       " 2  :13   AL662797.1: 1  \n",
       " 1_1: 1   ATXN7L1   : 1  \n",
       " 1_2: 1   BICD2     : 1  \n",
       "          C12orf4   : 1  \n",
       "          (Other)   :43  \n",
       "          NA's      : 2  "
      ]
     },
     "metadata": {},
     "output_type": "display_data"
    }
   ],
   "source": [
    "summary(cluster_DE)"
   ]
  },
  {
   "cell_type": "code",
   "execution_count": 178,
   "metadata": {},
   "outputs": [
    {
     "data": {
      "text/html": [
       "<table>\n",
       "<thead><tr><th scope=col>id</th><th scope=col>gene</th></tr></thead>\n",
       "<tbody>\n",
       "\t<tr><td>1          </td><td>ZMYM3      </td></tr>\n",
       "\t<tr><td>1          </td><td>TRAV8.2    </td></tr>\n",
       "\t<tr><td>1          </td><td>ITPR1      </td></tr>\n",
       "\t<tr><td>1          </td><td>AL662797.1 </td></tr>\n",
       "\t<tr><td>1          </td><td>MACF1      </td></tr>\n",
       "\t<tr><td>1          </td><td>CACNA1C.AS2</td></tr>\n",
       "</tbody>\n",
       "</table>\n"
      ],
      "text/latex": [
       "\\begin{tabular}{r|ll}\n",
       " id & gene\\\\\n",
       "\\hline\n",
       "\t 1           & ZMYM3      \\\\\n",
       "\t 1           & TRAV8.2    \\\\\n",
       "\t 1           & ITPR1      \\\\\n",
       "\t 1           & AL662797.1 \\\\\n",
       "\t 1           & MACF1      \\\\\n",
       "\t 1           & CACNA1C.AS2\\\\\n",
       "\\end{tabular}\n"
      ],
      "text/markdown": [
       "\n",
       "id | gene | \n",
       "|---|---|---|---|---|---|\n",
       "| 1           | ZMYM3       | \n",
       "| 1           | TRAV8.2     | \n",
       "| 1           | ITPR1       | \n",
       "| 1           | AL662797.1  | \n",
       "| 1           | MACF1       | \n",
       "| 1           | CACNA1C.AS2 | \n",
       "\n",
       "\n"
      ],
      "text/plain": [
       "  id gene       \n",
       "1 1  ZMYM3      \n",
       "2 1  TRAV8.2    \n",
       "3 1  ITPR1      \n",
       "4 1  AL662797.1 \n",
       "5 1  MACF1      \n",
       "6 1  CACNA1C.AS2"
      ]
     },
     "metadata": {},
     "output_type": "display_data"
    },
    {
     "data": {
      "text/html": [
       "<table>\n",
       "<thead><tr><th></th><th scope=col>id</th><th scope=col>gene</th></tr></thead>\n",
       "<tbody>\n",
       "\t<tr><th scope=row>45</th><td>2     </td><td>NFKBIA</td></tr>\n",
       "\t<tr><th scope=row>46</th><td>2     </td><td>PDPR  </td></tr>\n",
       "\t<tr><th scope=row>47</th><td>2     </td><td>TRAF4 </td></tr>\n",
       "\t<tr><th scope=row>48</th><td>2     </td><td>PSMA4 </td></tr>\n",
       "\t<tr><th scope=row>49</th><td>1_1   </td><td>NA    </td></tr>\n",
       "\t<tr><th scope=row>50</th><td>1_2   </td><td>NA    </td></tr>\n",
       "</tbody>\n",
       "</table>\n"
      ],
      "text/latex": [
       "\\begin{tabular}{r|ll}\n",
       "  & id & gene\\\\\n",
       "\\hline\n",
       "\t45 & 2      & NFKBIA\\\\\n",
       "\t46 & 2      & PDPR  \\\\\n",
       "\t47 & 2      & TRAF4 \\\\\n",
       "\t48 & 2      & PSMA4 \\\\\n",
       "\t49 & 1\\_1  & NA    \\\\\n",
       "\t50 & 1\\_2  & NA    \\\\\n",
       "\\end{tabular}\n"
      ],
      "text/markdown": [
       "\n",
       "| <!--/--> | id | gene | \n",
       "|---|---|---|---|---|---|\n",
       "| 45 | 2      | NFKBIA | \n",
       "| 46 | 2      | PDPR   | \n",
       "| 47 | 2      | TRAF4  | \n",
       "| 48 | 2      | PSMA4  | \n",
       "| 49 | 1_1    | NA     | \n",
       "| 50 | 1_2    | NA     | \n",
       "\n",
       "\n"
      ],
      "text/plain": [
       "   id  gene  \n",
       "45 2   NFKBIA\n",
       "46 2   PDPR  \n",
       "47 2   TRAF4 \n",
       "48 2   PSMA4 \n",
       "49 1_1 NA    \n",
       "50 1_2 NA    "
      ]
     },
     "metadata": {},
     "output_type": "display_data"
    }
   ],
   "source": [
    "head(cluster_DE)\n",
    "tail(cluster_DE)"
   ]
  },
  {
   "cell_type": "code",
   "execution_count": 204,
   "metadata": {},
   "outputs": [],
   "source": [
    "#' @param cell_ancestor_matrix n cells by k levels matrix\n",
    "#' @param expression_matrix n cells by m genes matrix\n",
    "#' @return return a list of the (cluster_id, genes) pairs that are overexpressed in the cluster against \n",
    "#' its sibling\n",
    " \n",
    "DE_hclust = function(cell_ancestor_matrix, expression_matrix, FC_thresh=1.0, q_thresh=0.2) {\n",
    "    cluster_DE = c()\n",
    "    for (k in seq(ncol(cell_ancestor_matrix))) {\n",
    "       print(k)\n",
    "       if (k == 1) {\n",
    "           unique_clusters = unique(cell_ancestor_matrix[,k])\n",
    "           expression = expression_matrix\n",
    "           for (unique_cluster in unique_clusters) {\n",
    "               unique_cluster_membership = (cell_ancestor_matrix[,k] == unique_cluster)\n",
    "               over = OverExpressedGenes(unique_cluster_membership, t(expression), q_thresh, FC_thresh)\n",
    "               subtree_id = paste(data.matrix(cell_ancestor_matrix[which(unique_cluster_membership)[1], seq(k)]), collapse='_')\n",
    "               print(paste(subtree_id, length(over)))\n",
    "               if (length(over) > 0) {\n",
    "                   cluster_DE = rbind(cluster_DE, data.frame(id = subtree_id, gene=over))\n",
    "               } else {\n",
    "                   cluster_DE = rbind(cluster_DE, data.frame(id = subtree_id, gene=NA))\n",
    "               }\n",
    "           }\n",
    "       } else {\n",
    "       # find where the split occurs\n",
    "        summary_matrix = table(cell_ancestor_matrix[,k-1], cell_ancestor_matrix[,k])\n",
    "        parent_split_idx = apply(summary_matrix, 1, function(x) sum(x > 0) == 2)\n",
    "        parent_split = names(parent_split_idx)[parent_split_idx]            \n",
    "        # subset for the part expression matrix of the expression matrix at level k - 1 where it\n",
    "        subset_idx = cell_ancestor_matrix[,k-1] == parent_split\n",
    "        expression = expression_matrix[subset_idx, ]\n",
    "        cell_ancestor_matrix_subset = cell_ancestor_matrix[subset_idx,]\n",
    "        unique_clusters = unique(cell_ancestor_matrix_subset[,k])\n",
    "        for (unique_cluster in unique_clusters) {\n",
    "               unique_cluster_membership = (cell_ancestor_matrix_subset[,k] == unique_cluster)\n",
    "               over = OverExpressedGenes(unique_cluster_membership, t(expression), q_thresh, FC_thresh)\n",
    "               subtree_id = paste(data.matrix(cell_ancestor_matrix_subset[which(unique_cluster_membership)[1], seq(k)]), collapse='_')\n",
    "               print(paste(subtree_id, length(over)))   \n",
    "               if (length(over) > 0) {\n",
    "                   cluster_DE = rbind(cluster_DE, data.frame(id = subtree_id, gene=over))\n",
    "               } else {\n",
    "                   cluster_DE = rbind(cluster_DE, data.frame(id = subtree_id, gene=NA))\n",
    "               }\n",
    "           }\n",
    "       }\n",
    "    }\n",
    "    return(cluster_DE)\n",
    "}"
   ]
  },
  {
   "cell_type": "code",
   "execution_count": 174,
   "metadata": {},
   "outputs": [
    {
     "data": {
      "text/html": [
       "<table>\n",
       "<thead><tr><th></th><th scope=col>2</th><th scope=col>3</th><th scope=col>4</th><th scope=col>5</th></tr></thead>\n",
       "<tbody>\n",
       "\t<tr><th scope=row>AAACCTGGTAAATACG-1</th><td>1</td><td>1</td><td>1</td><td>1</td></tr>\n",
       "\t<tr><th scope=row>AAACCTGGTGTGCCTG-1</th><td>1</td><td>2</td><td>2</td><td>2</td></tr>\n",
       "\t<tr><th scope=row>AAACCTGTCAGCTCTC-1</th><td>1</td><td>2</td><td>3</td><td>3</td></tr>\n",
       "\t<tr><th scope=row>AAACGGGAGGGCTTGA-1</th><td>1</td><td>2</td><td>3</td><td>3</td></tr>\n",
       "</tbody>\n",
       "</table>\n"
      ],
      "text/latex": [
       "\\begin{tabular}{r|llll}\n",
       "  & 2 & 3 & 4 & 5\\\\\n",
       "\\hline\n",
       "\tAAACCTGGTAAATACG-1 & 1 & 1 & 1 & 1\\\\\n",
       "\tAAACCTGGTGTGCCTG-1 & 1 & 2 & 2 & 2\\\\\n",
       "\tAAACCTGTCAGCTCTC-1 & 1 & 2 & 3 & 3\\\\\n",
       "\tAAACGGGAGGGCTTGA-1 & 1 & 2 & 3 & 3\\\\\n",
       "\\end{tabular}\n"
      ],
      "text/markdown": [
       "\n",
       "| <!--/--> | 2 | 3 | 4 | 5 | \n",
       "|---|---|---|---|\n",
       "| AAACCTGGTAAATACG-1 | 1 | 1 | 1 | 1 | \n",
       "| AAACCTGGTGTGCCTG-1 | 1 | 2 | 2 | 2 | \n",
       "| AAACCTGTCAGCTCTC-1 | 1 | 2 | 3 | 3 | \n",
       "| AAACGGGAGGGCTTGA-1 | 1 | 2 | 3 | 3 | \n",
       "\n",
       "\n"
      ],
      "text/plain": [
       "                   2 3 4 5\n",
       "AAACCTGGTAAATACG-1 1 1 1 1\n",
       "AAACCTGGTGTGCCTG-1 1 2 2 2\n",
       "AAACCTGTCAGCTCTC-1 1 2 3 3\n",
       "AAACGGGAGGGCTTGA-1 1 2 3 3"
      ]
     },
     "metadata": {},
     "output_type": "display_data"
    }
   ],
   "source": [
    "head(cell_ancestor_matrix[1:4, 1:4])"
   ]
  },
  {
   "cell_type": "code",
   "execution_count": 175,
   "metadata": {},
   "outputs": [
    {
     "data": {
      "text/html": [
       "<table>\n",
       "<thead><tr><th></th><th scope=col>TSPAN6</th><th scope=col>TNMD</th><th scope=col>DPM1</th><th scope=col>SCYL3</th></tr></thead>\n",
       "<tbody>\n",
       "\t<tr><th scope=row>AAACCTGGTAAATACG-1</th><td>-0.06760678</td><td>0          </td><td>-0.401611  </td><td>-0.1581129 </td></tr>\n",
       "\t<tr><th scope=row>AAACCTGGTGTGCCTG-1</th><td>-0.06760678</td><td>0          </td><td>-0.401611  </td><td>-0.1581129 </td></tr>\n",
       "\t<tr><th scope=row>AAACCTGTCAGCTCTC-1</th><td>-0.06760678</td><td>0          </td><td>-0.401611  </td><td>-0.1581129 </td></tr>\n",
       "\t<tr><th scope=row>AAACGGGAGGGCTTGA-1</th><td>-0.06760678</td><td>0          </td><td> 2.363806  </td><td>-0.1581129 </td></tr>\n",
       "</tbody>\n",
       "</table>\n"
      ],
      "text/latex": [
       "\\begin{tabular}{r|llll}\n",
       "  & TSPAN6 & TNMD & DPM1 & SCYL3\\\\\n",
       "\\hline\n",
       "\tAAACCTGGTAAATACG-1 & -0.06760678 & 0           & -0.401611   & -0.1581129 \\\\\n",
       "\tAAACCTGGTGTGCCTG-1 & -0.06760678 & 0           & -0.401611   & -0.1581129 \\\\\n",
       "\tAAACCTGTCAGCTCTC-1 & -0.06760678 & 0           & -0.401611   & -0.1581129 \\\\\n",
       "\tAAACGGGAGGGCTTGA-1 & -0.06760678 & 0           &  2.363806   & -0.1581129 \\\\\n",
       "\\end{tabular}\n"
      ],
      "text/markdown": [
       "\n",
       "| <!--/--> | TSPAN6 | TNMD | DPM1 | SCYL3 | \n",
       "|---|---|---|---|\n",
       "| AAACCTGGTAAATACG-1 | -0.06760678 | 0           | -0.401611   | -0.1581129  | \n",
       "| AAACCTGGTGTGCCTG-1 | -0.06760678 | 0           | -0.401611   | -0.1581129  | \n",
       "| AAACCTGTCAGCTCTC-1 | -0.06760678 | 0           | -0.401611   | -0.1581129  | \n",
       "| AAACGGGAGGGCTTGA-1 | -0.06760678 | 0           |  2.363806   | -0.1581129  | \n",
       "\n",
       "\n"
      ],
      "text/plain": [
       "                   TSPAN6      TNMD DPM1      SCYL3     \n",
       "AAACCTGGTAAATACG-1 -0.06760678 0    -0.401611 -0.1581129\n",
       "AAACCTGGTGTGCCTG-1 -0.06760678 0    -0.401611 -0.1581129\n",
       "AAACCTGTCAGCTCTC-1 -0.06760678 0    -0.401611 -0.1581129\n",
       "AAACGGGAGGGCTTGA-1 -0.06760678 0     2.363806 -0.1581129"
      ]
     },
     "metadata": {},
     "output_type": "display_data"
    }
   ],
   "source": [
    "head(t3_scaled_matrix_cleaned[1:4, 1:4])"
   ]
  },
  {
   "cell_type": "code",
   "execution_count": 183,
   "metadata": {},
   "outputs": [
    {
     "name": "stdout",
     "output_type": "stream",
     "text": [
      "[1] 1\n"
     ]
    },
    {
     "name": "stderr",
     "output_type": "stream",
     "text": [
      "Warning message:\n",
      "“Zero sample variances detected, have been offset away from zero”"
     ]
    },
    {
     "name": "stdout",
     "output_type": "stream",
     "text": [
      "[1] \"1 35\"\n"
     ]
    },
    {
     "name": "stderr",
     "output_type": "stream",
     "text": [
      "Warning message:\n",
      "“Zero sample variances detected, have been offset away from zero”"
     ]
    },
    {
     "name": "stdout",
     "output_type": "stream",
     "text": [
      "[1] \"2 13\"\n",
      "[1] 2\n"
     ]
    },
    {
     "name": "stderr",
     "output_type": "stream",
     "text": [
      "Warning message:\n",
      "“Zero sample variances detected, have been offset away from zero”"
     ]
    },
    {
     "name": "stdout",
     "output_type": "stream",
     "text": [
      "[1] \"1_1 0\"\n"
     ]
    },
    {
     "name": "stderr",
     "output_type": "stream",
     "text": [
      "Warning message:\n",
      "“Zero sample variances detected, have been offset away from zero”"
     ]
    },
    {
     "name": "stdout",
     "output_type": "stream",
     "text": [
      "[1] \"1_2 0\"\n",
      "[1] 3\n"
     ]
    },
    {
     "name": "stderr",
     "output_type": "stream",
     "text": [
      "Warning message:\n",
      "“Zero sample variances detected, have been offset away from zero”"
     ]
    },
    {
     "name": "stdout",
     "output_type": "stream",
     "text": [
      "[1] \"1_2_2 39\"\n"
     ]
    },
    {
     "name": "stderr",
     "output_type": "stream",
     "text": [
      "Warning message:\n",
      "“Zero sample variances detected, have been offset away from zero”"
     ]
    },
    {
     "name": "stdout",
     "output_type": "stream",
     "text": [
      "[1] \"1_2_3 6\"\n",
      "[1] 4\n"
     ]
    },
    {
     "name": "stderr",
     "output_type": "stream",
     "text": [
      "Warning message:\n",
      "“Zero sample variances detected, have been offset away from zero”"
     ]
    },
    {
     "name": "stdout",
     "output_type": "stream",
     "text": [
      "[1] \"1_1_1_1 0\"\n"
     ]
    },
    {
     "name": "stderr",
     "output_type": "stream",
     "text": [
      "Warning message:\n",
      "“Zero sample variances detected, have been offset away from zero”"
     ]
    },
    {
     "name": "stdout",
     "output_type": "stream",
     "text": [
      "[1] \"1_1_1_4 0\"\n",
      "[1] 5\n"
     ]
    },
    {
     "name": "stderr",
     "output_type": "stream",
     "text": [
      "Warning message:\n",
      "“Zero sample variances detected, have been offset away from zero”"
     ]
    },
    {
     "name": "stdout",
     "output_type": "stream",
     "text": [
      "[1] \"1_2_3_3_3 0\"\n"
     ]
    },
    {
     "name": "stderr",
     "output_type": "stream",
     "text": [
      "Warning message:\n",
      "“Zero sample variances detected, have been offset away from zero”"
     ]
    },
    {
     "name": "stdout",
     "output_type": "stream",
     "text": [
      "[1] \"1_2_3_3_4 5\"\n"
     ]
    }
   ],
   "source": [
    "cluster_genes_DE = DE_hclust(cell_ancestor_matrix, t3_scaled_matrix_cleaned)"
   ]
  },
  {
   "cell_type": "code",
   "execution_count": 205,
   "metadata": {},
   "outputs": [
    {
     "name": "stderr",
     "output_type": "stream",
     "text": [
      "Warning message in rownames(t3_count_matrix_cleaned) != rownames(cell_ancestor_matrix):\n",
      "“longer object length is not a multiple of shorter object length”"
     ]
    },
    {
     "data": {
      "text/html": [
       "3537"
      ],
      "text/latex": [
       "3537"
      ],
      "text/markdown": [
       "3537"
      ],
      "text/plain": [
       "[1] 3537"
      ]
     },
     "metadata": {},
     "output_type": "display_data"
    }
   ],
   "source": [
    "sum(rownames(t3_count_matrix_cleaned) != rownames(cell_ancestor_matrix))"
   ]
  },
  {
   "cell_type": "code",
   "execution_count": 208,
   "metadata": {},
   "outputs": [
    {
     "data": {
      "text/html": [
       "<ol class=list-inline>\n",
       "\t<li>3463</li>\n",
       "\t<li>33202</li>\n",
       "</ol>\n"
      ],
      "text/latex": [
       "\\begin{enumerate*}\n",
       "\\item 3463\n",
       "\\item 33202\n",
       "\\end{enumerate*}\n"
      ],
      "text/markdown": [
       "1. 3463\n",
       "2. 33202\n",
       "\n",
       "\n"
      ],
      "text/plain": [
       "[1]  3463 33202"
      ]
     },
     "metadata": {},
     "output_type": "display_data"
    }
   ],
   "source": [
    "dim(t3_count_matrix_cleaned_subset)"
   ]
  },
  {
   "cell_type": "code",
   "execution_count": 209,
   "metadata": {},
   "outputs": [
    {
     "data": {
      "text/html": [
       "<ol class=list-inline>\n",
       "\t<li>3463</li>\n",
       "\t<li>5</li>\n",
       "</ol>\n"
      ],
      "text/latex": [
       "\\begin{enumerate*}\n",
       "\\item 3463\n",
       "\\item 5\n",
       "\\end{enumerate*}\n"
      ],
      "text/markdown": [
       "1. 3463\n",
       "2. 5\n",
       "\n",
       "\n"
      ],
      "text/plain": [
       "[1] 3463    5"
      ]
     },
     "metadata": {},
     "output_type": "display_data"
    }
   ],
   "source": [
    "dim(cell_ancestor_matrix)"
   ]
  },
  {
   "cell_type": "code",
   "execution_count": 207,
   "metadata": {},
   "outputs": [],
   "source": [
    "t3_count_matrix_cleaned_subset = t3_count_matrix_cleaned[rownames(cell_ancestor_matrix),]"
   ]
  },
  {
   "cell_type": "code",
   "execution_count": 257,
   "metadata": {},
   "outputs": [],
   "source": [
    "FC_thresh = 1.1\n",
    "q_thresh = 0.2\n",
    "cluster_genes_DE = DE_hclust(cell_ancestor_matrix[,1:2], t3_count_matrix_cleaned_subset, FC_thresh=FC_thresh, \n",
    "                            q_thresh = q_thresh)"
   ]
  },
  {
   "cell_type": "code",
   "execution_count": 255,
   "metadata": {},
   "outputs": [
    {
     "data": {
      "text/plain": [
       "NULL"
      ]
     },
     "metadata": {},
     "output_type": "display_data"
    }
   ],
   "source": [
    "cluster_genes_DE"
   ]
  },
  {
   "cell_type": "markdown",
   "metadata": {},
   "source": [
    "## Compute the differential expression on the lowest level"
   ]
  },
  {
   "cell_type": "code",
   "execution_count": 213,
   "metadata": {},
   "outputs": [
    {
     "data": {
      "text/html": [
       "<table>\n",
       "<thead><tr><th></th><th scope=col>AAACCTGGTAAATACG.1</th><th scope=col>AAACCTGGTGTGCCTG.1</th></tr></thead>\n",
       "<tbody>\n",
       "\t<tr><th scope=row>TSPAN6</th><td>0</td><td>0</td></tr>\n",
       "\t<tr><th scope=row>TNMD</th><td>0</td><td>0</td></tr>\n",
       "</tbody>\n",
       "</table>\n"
      ],
      "text/latex": [
       "\\begin{tabular}{r|ll}\n",
       "  & AAACCTGGTAAATACG.1 & AAACCTGGTGTGCCTG.1\\\\\n",
       "\\hline\n",
       "\tTSPAN6 & 0 & 0\\\\\n",
       "\tTNMD & 0 & 0\\\\\n",
       "\\end{tabular}\n"
      ],
      "text/markdown": [
       "\n",
       "| <!--/--> | AAACCTGGTAAATACG.1 | AAACCTGGTGTGCCTG.1 | \n",
       "|---|---|\n",
       "| TSPAN6 | 0 | 0 | \n",
       "| TNMD | 0 | 0 | \n",
       "\n",
       "\n"
      ],
      "text/plain": [
       "       AAACCTGGTAAATACG.1 AAACCTGGTGTGCCTG.1\n",
       "TSPAN6 0                  0                 \n",
       "TNMD   0                  0                 "
      ]
     },
     "metadata": {},
     "output_type": "display_data"
    }
   ],
   "source": [
    "t3_count_matrix[1:2, 1:2]"
   ]
  },
  {
   "cell_type": "code",
   "execution_count": 217,
   "metadata": {},
   "outputs": [],
   "source": [
    "expression_test = expression[1,] %>% unlist\n",
    "label = sample(c(T, F), length(expression_test), replace=T)"
   ]
  },
  {
   "cell_type": "code",
   "execution_count": 219,
   "metadata": {},
   "outputs": [],
   "source": [
    "res = wilcox.test(expression_test~label)"
   ]
  },
  {
   "cell_type": "code",
   "execution_count": 220,
   "metadata": {},
   "outputs": [
    {
     "data": {
      "text/html": [
       "<strong>W:</strong> 137930453.5"
      ],
      "text/latex": [
       "\\textbf{W:} 137930453.5"
      ],
      "text/markdown": [
       "**W:** 137930453.5"
      ],
      "text/plain": [
       "        W \n",
       "137930454 "
      ]
     },
     "metadata": {},
     "output_type": "display_data"
    }
   ],
   "source": [
    "res$statistic"
   ]
  },
  {
   "cell_type": "code",
   "execution_count": 222,
   "metadata": {},
   "outputs": [
    {
     "data": {
      "text/plain": [
       "NULL"
      ]
     },
     "metadata": {},
     "output_type": "display_data"
    }
   ],
   "source": [
    "res$"
   ]
  },
  {
   "cell_type": "code",
   "execution_count": 223,
   "metadata": {},
   "outputs": [],
   "source": [
    "library(qvalue)"
   ]
  },
  {
   "cell_type": "code",
   "execution_count": 252,
   "metadata": {},
   "outputs": [],
   "source": [
    "source('../../R/gene_signature.R')"
   ]
  },
  {
   "cell_type": "code",
   "execution_count": 228,
   "metadata": {},
   "outputs": [],
   "source": [
    "X = matrix(runif(500), ncol=10, nrow=50)\n",
    "colnames(X) = paste0('c', seq(ncol(X)))\n",
    "rownames(X) = paste0('gene', seq(nrow(X)))"
   ]
  },
  {
   "cell_type": "code",
   "execution_count": 229,
   "metadata": {},
   "outputs": [
    {
     "data": {
      "text/html": [
       "<table>\n",
       "<thead><tr><th></th><th scope=col>c1</th><th scope=col>c2</th><th scope=col>c3</th><th scope=col>c4</th><th scope=col>c5</th><th scope=col>c6</th><th scope=col>c7</th><th scope=col>c8</th><th scope=col>c9</th><th scope=col>c10</th></tr></thead>\n",
       "<tbody>\n",
       "\t<tr><th scope=row>gene1</th><td>0.4709134 </td><td>0.02212056</td><td>0.1702942 </td><td>0.5523604 </td><td>0.5621843 </td><td>0.75394619</td><td>0.7414310 </td><td>0.14958865</td><td>0.62169504</td><td>0.4018733 </td></tr>\n",
       "\t<tr><th scope=row>gene2</th><td>0.7477297 </td><td>0.30555776</td><td>0.8516359 </td><td>0.2992713 </td><td>0.2881458 </td><td>0.02346765</td><td>0.1508080 </td><td>0.96719501</td><td>0.34150410</td><td>0.3606569 </td></tr>\n",
       "\t<tr><th scope=row>gene3</th><td>0.2429081 </td><td>0.43067152</td><td>0.9708850 </td><td>0.8756577 </td><td>0.4409997 </td><td>0.85591459</td><td>0.1096288 </td><td>0.46049656</td><td>0.76458948</td><td>0.5600314 </td></tr>\n",
       "\t<tr><th scope=row>gene4</th><td>0.8933219 </td><td>0.83846398</td><td>0.5343653 </td><td>0.9653373 </td><td>0.3929991 </td><td>0.90857779</td><td>0.9880657 </td><td>0.07509679</td><td>0.47918571</td><td>0.4069844 </td></tr>\n",
       "\t<tr><th scope=row>gene5</th><td>0.2705880 </td><td>0.32632071</td><td>0.2202370 </td><td>0.1955326 </td><td>0.8555964 </td><td>0.89363079</td><td>0.9403148 </td><td>0.61186933</td><td>0.39333725</td><td>0.1557477 </td></tr>\n",
       "\t<tr><th scope=row>gene6</th><td>0.7512884 </td><td>0.62438513</td><td>0.3668668 </td><td>0.3905545 </td><td>0.3929433 </td><td>0.05872827</td><td>0.3150376 </td><td>0.31758449</td><td>0.09308752</td><td>0.6057863 </td></tr>\n",
       "</tbody>\n",
       "</table>\n"
      ],
      "text/latex": [
       "\\begin{tabular}{r|llllllllll}\n",
       "  & c1 & c2 & c3 & c4 & c5 & c6 & c7 & c8 & c9 & c10\\\\\n",
       "\\hline\n",
       "\tgene1 & 0.4709134  & 0.02212056 & 0.1702942  & 0.5523604  & 0.5621843  & 0.75394619 & 0.7414310  & 0.14958865 & 0.62169504 & 0.4018733 \\\\\n",
       "\tgene2 & 0.7477297  & 0.30555776 & 0.8516359  & 0.2992713  & 0.2881458  & 0.02346765 & 0.1508080  & 0.96719501 & 0.34150410 & 0.3606569 \\\\\n",
       "\tgene3 & 0.2429081  & 0.43067152 & 0.9708850  & 0.8756577  & 0.4409997  & 0.85591459 & 0.1096288  & 0.46049656 & 0.76458948 & 0.5600314 \\\\\n",
       "\tgene4 & 0.8933219  & 0.83846398 & 0.5343653  & 0.9653373  & 0.3929991  & 0.90857779 & 0.9880657  & 0.07509679 & 0.47918571 & 0.4069844 \\\\\n",
       "\tgene5 & 0.2705880  & 0.32632071 & 0.2202370  & 0.1955326  & 0.8555964  & 0.89363079 & 0.9403148  & 0.61186933 & 0.39333725 & 0.1557477 \\\\\n",
       "\tgene6 & 0.7512884  & 0.62438513 & 0.3668668  & 0.3905545  & 0.3929433  & 0.05872827 & 0.3150376  & 0.31758449 & 0.09308752 & 0.6057863 \\\\\n",
       "\\end{tabular}\n"
      ],
      "text/markdown": [
       "\n",
       "| <!--/--> | c1 | c2 | c3 | c4 | c5 | c6 | c7 | c8 | c9 | c10 | \n",
       "|---|---|---|---|---|---|\n",
       "| gene1 | 0.4709134  | 0.02212056 | 0.1702942  | 0.5523604  | 0.5621843  | 0.75394619 | 0.7414310  | 0.14958865 | 0.62169504 | 0.4018733  | \n",
       "| gene2 | 0.7477297  | 0.30555776 | 0.8516359  | 0.2992713  | 0.2881458  | 0.02346765 | 0.1508080  | 0.96719501 | 0.34150410 | 0.3606569  | \n",
       "| gene3 | 0.2429081  | 0.43067152 | 0.9708850  | 0.8756577  | 0.4409997  | 0.85591459 | 0.1096288  | 0.46049656 | 0.76458948 | 0.5600314  | \n",
       "| gene4 | 0.8933219  | 0.83846398 | 0.5343653  | 0.9653373  | 0.3929991  | 0.90857779 | 0.9880657  | 0.07509679 | 0.47918571 | 0.4069844  | \n",
       "| gene5 | 0.2705880  | 0.32632071 | 0.2202370  | 0.1955326  | 0.8555964  | 0.89363079 | 0.9403148  | 0.61186933 | 0.39333725 | 0.1557477  | \n",
       "| gene6 | 0.7512884  | 0.62438513 | 0.3668668  | 0.3905545  | 0.3929433  | 0.05872827 | 0.3150376  | 0.31758449 | 0.09308752 | 0.6057863  | \n",
       "\n",
       "\n"
      ],
      "text/plain": [
       "      c1        c2         c3        c4        c5        c6         c7       \n",
       "gene1 0.4709134 0.02212056 0.1702942 0.5523604 0.5621843 0.75394619 0.7414310\n",
       "gene2 0.7477297 0.30555776 0.8516359 0.2992713 0.2881458 0.02346765 0.1508080\n",
       "gene3 0.2429081 0.43067152 0.9708850 0.8756577 0.4409997 0.85591459 0.1096288\n",
       "gene4 0.8933219 0.83846398 0.5343653 0.9653373 0.3929991 0.90857779 0.9880657\n",
       "gene5 0.2705880 0.32632071 0.2202370 0.1955326 0.8555964 0.89363079 0.9403148\n",
       "gene6 0.7512884 0.62438513 0.3668668 0.3905545 0.3929433 0.05872827 0.3150376\n",
       "      c8         c9         c10      \n",
       "gene1 0.14958865 0.62169504 0.4018733\n",
       "gene2 0.96719501 0.34150410 0.3606569\n",
       "gene3 0.46049656 0.76458948 0.5600314\n",
       "gene4 0.07509679 0.47918571 0.4069844\n",
       "gene5 0.61186933 0.39333725 0.1557477\n",
       "gene6 0.31758449 0.09308752 0.6057863"
      ]
     },
     "metadata": {},
     "output_type": "display_data"
    }
   ],
   "source": [
    "head(X)"
   ]
  },
  {
   "cell_type": "code",
   "execution_count": 233,
   "metadata": {},
   "outputs": [],
   "source": [
    "child_node_1_idx = sample(c(T, F), ncol(X), replace=T)"
   ]
  },
  {
   "cell_type": "code",
   "execution_count": 234,
   "metadata": {},
   "outputs": [
    {
     "data": {
      "text/html": [
       "6"
      ],
      "text/latex": [
       "6"
      ],
      "text/markdown": [
       "6"
      ],
      "text/plain": [
       "[1] 6"
      ]
     },
     "metadata": {},
     "output_type": "display_data"
    }
   ],
   "source": [
    "sum(child_node_1_idx)"
   ]
  },
  {
   "cell_type": "code",
   "execution_count": 251,
   "metadata": {},
   "outputs": [
    {
     "data": {
      "text/html": [
       "<table>\n",
       "<thead><tr><th></th><th scope=col>logFC</th><th scope=col>p.value</th><th scope=col>q.value</th></tr></thead>\n",
       "<tbody>\n",
       "\t<tr><th scope=row>gene42</th><td>0.4343282 </td><td>0.06666667</td><td>0.8333333 </td></tr>\n",
       "</tbody>\n",
       "</table>\n"
      ],
      "text/latex": [
       "\\begin{tabular}{r|lll}\n",
       "  & logFC & p.value & q.value\\\\\n",
       "\\hline\n",
       "\tgene42 & 0.4343282  & 0.06666667 & 0.8333333 \\\\\n",
       "\\end{tabular}\n"
      ],
      "text/markdown": [
       "\n",
       "| <!--/--> | logFC | p.value | q.value | \n",
       "|---|\n",
       "| gene42 | 0.4343282  | 0.06666667 | 0.8333333  | \n",
       "\n",
       "\n"
      ],
      "text/plain": [
       "       logFC     p.value    q.value  \n",
       "gene42 0.4343282 0.06666667 0.8333333"
      ]
     },
     "metadata": {},
     "output_type": "display_data"
    }
   ],
   "source": [
    "DE_childrenNodes.wilcox(X, child_node_1_idx, !child_node_1_idx, \n",
    "                       q_thresh = 0.99, FC_thresh = 1)"
   ]
  },
  {
   "cell_type": "markdown",
   "metadata": {},
   "source": [
    "## Naive DE"
   ]
  },
  {
   "cell_type": "code",
   "execution_count": 260,
   "metadata": {},
   "outputs": [],
   "source": [
    "bottom_level_membership = cell_ancestor_matrix[, 5]"
   ]
  },
  {
   "cell_type": "code",
   "execution_count": 261,
   "metadata": {},
   "outputs": [
    {
     "data": {
      "text/html": [
       "<dl class=dl-horizontal>\n",
       "\t<dt>AAACCTGGTAAATACG-1</dt>\n",
       "\t\t<dd>1</dd>\n",
       "\t<dt>AAACCTGGTGTGCCTG-1</dt>\n",
       "\t\t<dd>2</dd>\n",
       "\t<dt>AAACCTGTCAGCTCTC-1</dt>\n",
       "\t\t<dd>3</dd>\n",
       "\t<dt>AAACGGGAGGGCTTGA-1</dt>\n",
       "\t\t<dd>4</dd>\n",
       "\t<dt>AAACGGGAGTATCGAA-1</dt>\n",
       "\t\t<dd>4</dd>\n",
       "\t<dt>AAACGGGCAGTTCCCT-1</dt>\n",
       "\t\t<dd>5</dd>\n",
       "</dl>\n"
      ],
      "text/latex": [
       "\\begin{description*}\n",
       "\\item[AAACCTGGTAAATACG-1] 1\n",
       "\\item[AAACCTGGTGTGCCTG-1] 2\n",
       "\\item[AAACCTGTCAGCTCTC-1] 3\n",
       "\\item[AAACGGGAGGGCTTGA-1] 4\n",
       "\\item[AAACGGGAGTATCGAA-1] 4\n",
       "\\item[AAACGGGCAGTTCCCT-1] 5\n",
       "\\end{description*}\n"
      ],
      "text/markdown": [
       "AAACCTGGTAAATACG-1\n",
       ":   1AAACCTGGTGTGCCTG-1\n",
       ":   2AAACCTGTCAGCTCTC-1\n",
       ":   3AAACGGGAGGGCTTGA-1\n",
       ":   4AAACGGGAGTATCGAA-1\n",
       ":   4AAACGGGCAGTTCCCT-1\n",
       ":   5\n",
       "\n"
      ],
      "text/plain": [
       "AAACCTGGTAAATACG-1 AAACCTGGTGTGCCTG-1 AAACCTGTCAGCTCTC-1 AAACGGGAGGGCTTGA-1 \n",
       "                 1                  2                  3                  4 \n",
       "AAACGGGAGTATCGAA-1 AAACGGGCAGTTCCCT-1 \n",
       "                 4                  5 "
      ]
     },
     "metadata": {},
     "output_type": "display_data"
    }
   ],
   "source": [
    "head(bottom_level_membership)"
   ]
  },
  {
   "cell_type": "code",
   "execution_count": 262,
   "metadata": {},
   "outputs": [],
   "source": [
    "cluster = 1\n",
    "is_cluster_1 = (bottom_level_membership == cluster)"
   ]
  },
  {
   "cell_type": "code",
   "execution_count": 263,
   "metadata": {},
   "outputs": [
    {
     "data": {
      "text/html": [
       "<ol class=list-inline>\n",
       "\t<li>3463</li>\n",
       "\t<li>33202</li>\n",
       "</ol>\n"
      ],
      "text/latex": [
       "\\begin{enumerate*}\n",
       "\\item 3463\n",
       "\\item 33202\n",
       "\\end{enumerate*}\n"
      ],
      "text/markdown": [
       "1. 3463\n",
       "2. 33202\n",
       "\n",
       "\n"
      ],
      "text/plain": [
       "[1]  3463 33202"
      ]
     },
     "metadata": {},
     "output_type": "display_data"
    }
   ],
   "source": [
    "t3_count_matrix_cleaned_subset %>% dim"
   ]
  },
  {
   "cell_type": "code",
   "execution_count": null,
   "metadata": {},
   "outputs": [],
   "source": [
    "length(bottom_level)"
   ]
  }
 ],
 "metadata": {
  "kernelspec": {
   "display_name": "R",
   "language": "R",
   "name": "ir"
  },
  "language_info": {
   "codemirror_mode": "r",
   "file_extension": ".r",
   "mimetype": "text/x-r-source",
   "name": "R",
   "pygments_lexer": "r",
   "version": "3.5.0"
  }
 },
 "nbformat": 4,
 "nbformat_minor": 2
}
